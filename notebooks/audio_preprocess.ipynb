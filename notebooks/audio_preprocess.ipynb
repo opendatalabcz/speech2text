{
 "cells": [
  {
   "cell_type": "code",
   "execution_count": 4,
   "metadata": {},
   "outputs": [
    {
     "name": "stderr",
     "output_type": "stream",
     "text": [
      "Using TensorFlow backend.\n"
     ]
    }
   ],
   "source": [
    "from inaSpeechSegmenter import Segmenter, seg2csv"
   ]
  },
  {
   "cell_type": "code",
   "execution_count": 5,
   "metadata": {},
   "outputs": [],
   "source": [
    "media = '../shared/cpm_mp3/2013112513581412.mp3'"
   ]
  },
  {
   "cell_type": "code",
   "execution_count": 9,
   "metadata": {},
   "outputs": [],
   "source": [
    "seg = Segmenter(detect_gender=False)"
   ]
  },
  {
   "cell_type": "code",
   "execution_count": 10,
   "metadata": {},
   "outputs": [
    {
     "name": "stderr",
     "output_type": "stream",
     "text": [
      "/opt/conda/lib/python3.7/site-packages/pyannote/algorithms/utils/viterbi.py:88: FutureWarning: arrays to stack must be passed as a \"sequence\" type such as list or tuple. Support for non-sequence iterables such as generators is deprecated as of NumPy 1.16 and will raise an error in the future.\n",
      "  for e, c in six.moves.zip(emission.T, consecutive)\n",
      "/opt/conda/lib/python3.7/site-packages/pyannote/algorithms/utils/viterbi.py:97: FutureWarning: arrays to stack must be passed as a \"sequence\" type such as list or tuple. Support for non-sequence iterables such as generators is deprecated as of NumPy 1.16 and will raise an error in the future.\n",
      "  for e, c in six.moves.zip(constraint.T, consecutive)\n"
     ]
    }
   ],
   "source": [
    "segmentation = seg(media)"
   ]
  },
  {
   "cell_type": "code",
   "execution_count": 11,
   "metadata": {},
   "outputs": [
    {
     "name": "stdout",
     "output_type": "stream",
     "text": [
      "[('noise', 0.0, 419.18), ('music', 419.18, 483.74), ('noEnergy', 483.74, 486.26), ('noise', 486.26, 509.36), ('speech', 509.36, 612.74), ('noise', 612.74, 624.12), ('speech', 624.12, 640.7), ('noEnergy', 640.7, 641.38), ('noise', 641.38, 642.76), ('noEnergy', 642.76, 645.64), ('music', 645.64, 646.14), ('noEnergy', 646.14, 647.62), ('noise', 647.62, 648.02), ('noEnergy', 648.02, 657.32), ('speech', 657.32, 658.16), ('noise', 658.16, 665.74), ('speech', 665.74, 745.9), ('noise', 745.9, 755.1800000000001), ('speech', 755.1800000000001, 772.94), ('noEnergy', 772.94, 773.4), ('speech', 773.4, 774.08), ('noEnergy', 774.08, 778.1800000000001), ('noise', 778.1800000000001, 778.5600000000001), ('noEnergy', 778.5600000000001, 783.0), ('noise', 783.0, 783.36), ('noEnergy', 783.36, 789.24), ('speech', 789.24, 792.0), ('noEnergy', 792.0, 792.6), ('noise', 792.6, 794.52), ('speech', 794.52, 795.98), ('noise', 795.98, 809.28), ('speech', 809.28, 811.32), ('noise', 811.32, 822.0), ('noEnergy', 822.0, 822.78), ('noise', 822.78, 824.14), ('noEnergy', 824.14, 825.1800000000001), ('noise', 825.1800000000001, 826.0), ('noEnergy', 826.0, 826.78), ('speech', 826.78, 827.4), ('noEnergy', 827.4, 828.9), ('speech', 828.9, 831.02), ('noise', 831.02, 833.34), ('noEnergy', 833.34, 835.8000000000001), ('noise', 835.8000000000001, 836.1), ('noEnergy', 836.1, 838.76)]\n"
     ]
    }
   ],
   "source": [
    "print(segmentation)"
   ]
  },
  {
   "cell_type": "code",
   "execution_count": null,
   "metadata": {},
   "outputs": [],
   "source": []
  }
 ],
 "metadata": {
  "kernelspec": {
   "display_name": "Python 3",
   "language": "python",
   "name": "python3"
  },
  "language_info": {
   "codemirror_mode": {
    "name": "ipython",
    "version": 3
   },
   "file_extension": ".py",
   "mimetype": "text/x-python",
   "name": "python",
   "nbconvert_exporter": "python",
   "pygments_lexer": "ipython3",
   "version": "3.7.3"
  }
 },
 "nbformat": 4,
 "nbformat_minor": 2
}
