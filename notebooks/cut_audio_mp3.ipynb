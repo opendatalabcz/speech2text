{
 "cells": [
  {
   "cell_type": "markdown",
   "metadata": {},
   "source": [
    "# Cutting audio mp3 files\n",
    "## Imports"
   ]
  },
  {
   "cell_type": "code",
   "execution_count": 2,
   "metadata": {},
   "outputs": [],
   "source": [
    "import pandas as pd\n",
    "import os\n",
    "import pydub"
   ]
  },
  {
   "cell_type": "markdown",
   "metadata": {},
   "source": [
    "## Function definitions\n",
    "### absolute_file_paths\n",
    "Returns list of absolute urls of all files in a specified directory.\n",
    "\n",
    "### cut_mp3\n",
    "Cuts long mp3s in a specified *mp3_dir* according to segmenter output in the *segment_dir* and exports the audio segments to the *target_dir*."
   ]
  },
  {
   "cell_type": "code",
   "execution_count": 3,
   "metadata": {},
   "outputs": [],
   "source": [
    "def absolute_file_paths(directory):\n",
    "    for dirpath,_,filenames in os.walk(directory):\n",
    "        return [os.path.abspath(os.path.join(dirpath, f)) for f in filenames]\n",
    "\n",
    "def cut_mp3(segment_dir, mp3_dir, target_dir):\n",
    "    if not os.path.exists(segment_dir):\n",
    "        print('Segmeter directory doesn\\' exist.')\n",
    "        return\n",
    "    if not os.path.exists(mp3_dir):\n",
    "        print('MP3 directory doesn\\' exist.')\n",
    "        return\n",
    "    if not os.path.exists(target_dir): os.mkdir(target_dir)\n",
    "\n",
    "    csv_paths = sorted(absolute_file_paths(segment_dir))\n",
    "    wav_csv = open(os.path.join(target_dir, 'data.csv'), 'w')\n",
    "    wav_csv.write('file,length' + '\\n')\n",
    "    \n",
    "    for csv_path in csv_paths:\n",
    "        filename = csv_path.split(os.path.sep)[-1].split('.')[0]\n",
    "        audio_path = os.path.join(mp3_dir, csv_path.split(os.path.sep)[-1].replace('.csv', '.mp3'))\n",
    "        audio = pydub.AudioSegment.from_mp3(audio_path)\n",
    "        df = pd.read_csv(csv_path, delimiter='\\t')\n",
    "        count = 0\n",
    "        \n",
    "        for idx, line in df[df['labels'] == 'speech'].iterrows():\n",
    "            start_time = int(line['start']*1000 - 100)\n",
    "            if start_time < 0:\n",
    "                start_time = 0\n",
    "            stop_time = int(line['stop']*1000 + 100)\n",
    "            audio_cut = audio[start_time:stop_time]\n",
    "            export_path = os.path.join(target_dir, filename+'_'+str(count).zfill(4)+'.wav')\n",
    "            audio_cut.export(export_path, format='wav')\n",
    "            wav_csv.write(export_path + ',' + str(len(audio_cut)) + '\\n')\n",
    "            count += 1"
   ]
  },
  {
   "cell_type": "code",
   "execution_count": null,
   "metadata": {},
   "outputs": [],
   "source": [
    "cut_mp3(segment_dir='/opt/shared_data/cpm_mp3_seg/',\n",
    "        mp3_dir='/opt/shared_data/cpm_mp3/',\n",
    "        target_dir='/opt/shared_data/cpm_wav_cut/')"
   ]
  }
 ],
 "metadata": {
  "kernelspec": {
   "display_name": "Python 3",
   "language": "python",
   "name": "python3"
  },
  "language_info": {
   "codemirror_mode": {
    "name": "ipython",
    "version": 3
   },
   "file_extension": ".py",
   "mimetype": "text/x-python",
   "name": "python",
   "nbconvert_exporter": "python",
   "pygments_lexer": "ipython3",
   "version": "3.7.3"
  }
 },
 "nbformat": 4,
 "nbformat_minor": 4
}
