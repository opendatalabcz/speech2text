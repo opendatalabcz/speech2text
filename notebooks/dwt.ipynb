{
 "cells": [
  {
   "cell_type": "code",
   "execution_count": 1,
   "metadata": {},
   "outputs": [],
   "source": [
    "import tensorflow as tf"
   ]
  },
  {
   "cell_type": "code",
   "execution_count": 2,
   "metadata": {},
   "outputs": [],
   "source": [
    "input_sig = [32, 10, 20, 38, 37, 28, 38, 34, 18, 24, 18, 9, 23, 24, 28, 34]\n",
    "tf_sig = tf.constant(input_sig, dtype=tf.float32)"
   ]
  },
  {
   "cell_type": "code",
   "execution_count": 3,
   "metadata": {},
   "outputs": [],
   "source": [
    "class HaarClassicWPD:    \n",
    "    @staticmethod\n",
    "    def __log2(self, x):\n",
    "        numerator = tf.math.log(x)\n",
    "        denominator = tf.math.log(tf.constant(2, dtype=numerator.dtype))\n",
    "        return numerator / denominator\n",
    "    \n",
    "    @staticmethod\n",
    "    def __high_pass_filter(signal):\n",
    "        return tf.math.divide(\n",
    "                   tf.reduce_sum(\n",
    "                       tf.transpose(\n",
    "                           tf.reshape(signal, [tf.shape(signal)[0]//2, 2])\n",
    "                       ), 0\n",
    "                   ), 2\n",
    "               )\n",
    "\n",
    "    @staticmethod\n",
    "    def __low_pass_filter(signal):\n",
    "        return tf.math.divide(\n",
    "                   tf.math.subtract(\n",
    "                       tf.transpose(\n",
    "                           tf.reshape(signal, [tf.shape(signal)[0]//2, 2]))[0],\n",
    "                       tf.transpose(\n",
    "                           tf.reshape(signal, [tf.shape(signal)[0]//2, 2]))[1]\n",
    "                    ), 2\n",
    "                )\n",
    "    \n",
    "    @staticmethod\n",
    "    def __sig_to_feature(signal):\n",
    "        return tf.reduce_logsumexp(signal)\n",
    "    \n",
    "    @staticmethod\n",
    "    def get_level(signal, level):\n",
    "        signal = tf.reshape(signal, [1, tf.size(signal)])\n",
    "        curr_level = 1\n",
    "        while curr_level <= level:\n",
    "            new_sig = tf.map_fn(HaarClassicWPD.__low_pass_filter, signal)\n",
    "            signal = tf.concat([new_sig, tf.map_fn(HaarClassicWPD.__high_pass_filter, signal)], 0)\n",
    "            curr_level += 1\n",
    "        return signal\n",
    "    \n",
    "    @staticmethod\n",
    "    def get_features_level(signal, level):\n",
    "        return tf.map_fn(HaarClassicWPD.__sig_to_feature, HaarClassicWPD.get_level(signal, level))"
   ]
  },
  {
   "cell_type": "code",
   "execution_count": 5,
   "metadata": {},
   "outputs": [
    {
     "name": "stdout",
     "output_type": "stream",
     "text": [
      "[[ 4.375 -2.5  ]\n",
      " [-1.125  3.75 ]\n",
      " [-1.125  1.25 ]\n",
      " [-4.625 -5.   ]\n",
      " [ 5.625 -1.25 ]\n",
      " [-2.875  0.   ]\n",
      " [ 2.125 -0.5  ]\n",
      " [29.625 22.25 ]]\n",
      "[ 4.376033    3.757606    1.3389394  -4.1018767   5.626033    0.05488219\n",
      "  2.1949363  29.625626  ]\n"
     ]
    }
   ],
   "source": [
    "with tf.Session().as_default():\n",
    "    level = 3\n",
    "    print(HaarClassicWPD.get_level(tf_sig, level).eval())\n",
    "    print(HaarClassicWPD.get_features_level(tf_sig, level).eval())"
   ]
  },
  {
   "cell_type": "code",
   "execution_count": null,
   "metadata": {},
   "outputs": [],
   "source": []
  },
  {
   "cell_type": "code",
   "execution_count": null,
   "metadata": {},
   "outputs": [],
   "source": []
  }
 ],
 "metadata": {
  "kernelspec": {
   "display_name": "Python 3",
   "language": "python",
   "name": "python3"
  },
  "language_info": {
   "codemirror_mode": {
    "name": "ipython",
    "version": 3
   },
   "file_extension": ".py",
   "mimetype": "text/x-python",
   "name": "python",
   "nbconvert_exporter": "python",
   "pygments_lexer": "ipython3",
   "version": "3.6.9"
  }
 },
 "nbformat": 4,
 "nbformat_minor": 4
}
