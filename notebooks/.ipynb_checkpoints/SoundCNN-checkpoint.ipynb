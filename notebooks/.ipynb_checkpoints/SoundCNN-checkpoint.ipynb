{
 "cells": [
  {
   "cell_type": "markdown",
   "metadata": {},
   "source": [
    "# MI-MVI Semestral project\n",
    "by Richard Werner"
   ]
  },
  {
   "cell_type": "markdown",
   "metadata": {},
   "source": [
    "## Imports"
   ]
  },
  {
   "cell_type": "code",
   "execution_count": 1,
   "metadata": {},
   "outputs": [],
   "source": [
    "import tensorflow as tf\n",
    "from tensorflow.keras.layers import Reshape\n",
    "from tensorflow.keras.layers import Conv1D\n",
    "from tensorflow.keras.layers import MaxPooling1D\n",
    "from tensorflow.keras.layers import GlobalAveragePooling1D\n",
    "from tensorflow.keras.layers import Dropout\n",
    "from tensorflow.keras.layers import Dense\n",
    "from tensorflow.keras.layers import Lambda\n",
    "from tensorflow.losses import mean_squared_error\n",
    "from tensorflow.keras.optimizers import SGD\n",
    "import numpy as np\n",
    "import sys\n",
    "import pandas as pd\n",
    "from scipy.io import wavfile\n",
    "from tensorflow.keras.utils import to_categorical\n",
    "from matplotlib import pyplot as plt\n",
    "import itertools\n",
    "from collections import Counter\n",
    "from imblearn.over_sampling import RandomOverSampler\n",
    "import math\n",
    "from tensorflow.keras import backend as K\n",
    "from tensorflow.keras.models import Model\n",
    "from sklearn.model_selection import train_test_split"
   ]
  },
  {
   "cell_type": "markdown",
   "metadata": {},
   "source": [
    "## Loading the data"
   ]
  },
  {
   "cell_type": "markdown",
   "metadata": {},
   "source": [
    "Since the speaker information for each audio chunk is in it's own text file, they have to be loaded separately"
   ]
  },
  {
   "cell_type": "code",
   "execution_count": 3,
   "metadata": {},
   "outputs": [
    {
     "name": "stdout",
     "output_type": "stream",
     "text": [
      "Train:  36054  Dev:  10371  Test:  5190\n"
     ]
    }
   ],
   "source": [
    "data_train = pd.read_csv('../../shared/datasets/cpm_cut/train.csv', delimiter=',')\n",
    "data_dev = pd.read_csv('../../shared/datasets/cpm_cut/dev.csv', delimiter=',')\n",
    "data_test = pd.read_csv('../../shared/datasets/cpm_cut/test.csv', delimiter=',')\n",
    "\n",
    "data_train['speaker'] = [open('../../shared/datasets/cpm_cut/' + s.split('/')[-1].replace('.wav', '.spk'), encoding='utf-8-sig').read() for s in data_train['wav_filename'].tolist()]\n",
    "data_dev['speaker'] = [open('../../shared/datasets/cpm_cut/' + s.split('/')[-1].replace('.wav', '.spk'), encoding='utf-8-sig').read() for s in data_dev['wav_filename'].tolist()]\n",
    "data_test['speaker'] = [open('../../shared/datasets/cpm_cut/' + s.split('/')[-1].replace('.wav', '.spk'), encoding='utf-8-sig').read() for s in data_test['wav_filename'].tolist()]\n",
    "\n",
    "print('Train: ', len(data_train), ' Dev: ', len(data_dev), ' Test: ', len(data_test))"
   ]
  },
  {
   "cell_type": "markdown",
   "metadata": {},
   "source": [
    "Leave out entries with empty speaker info"
   ]
  },
  {
   "cell_type": "code",
   "execution_count": 4,
   "metadata": {},
   "outputs": [],
   "source": [
    "data_train = data_train[data_train['speaker'] != '']\n",
    "data_dev = data_dev[data_dev['speaker'] != '']\n",
    "data_test = data_test[data_test['speaker'] != '']\n",
    "\n",
    "print('Train: ', len(data_train), ' Dev: ', len(data_dev), ' Test: ', len(data_test))"
   ]
  },
  {
   "cell_type": "markdown",
   "metadata": {},
   "source": [
    "Select only the entries with speakers belonging to the top N frequent speakers"
   ]
  },
  {
   "cell_type": "code",
   "execution_count": 5,
   "metadata": {},
   "outputs": [],
   "source": [
    "top_n_classes = 10"
   ]
  },
  {
   "cell_type": "code",
   "execution_count": 6,
   "metadata": {},
   "outputs": [
    {
     "name": "stdout",
     "output_type": "stream",
     "text": [
      "speaker\n",
      "Miroslava Němcová      1986\n",
      "Petr Nečas             1808\n",
      "Lubomír Zaorálek       1657\n",
      "Vlasta Parkanová       1380\n",
      "Kateřina Klasnová      1307\n",
      "Bohuslav Sobotka       1283\n",
      "Leoš Heger             1153\n",
      "David Rath             1120\n",
      "Miroslav Grebeníček     831\n",
      "Miroslav Opálka         825\n",
      "dtype: int64\n",
      "Train:  13350  Dev:  3870  Test:  1926\n"
     ]
    }
   ],
   "source": [
    "top_speakers = data_train.groupby('speaker').size().nlargest(top_n_classes)\n",
    "print(top_speakers)\n",
    "max_num_spk = max(top_speakers)\n",
    "top_speakers = top_speakers.keys().to_list()\n",
    "\n",
    "data_train = data_train[data_train['speaker'].isin(top_speakers)]\n",
    "data_dev = data_dev[data_dev['speaker'].isin(top_speakers)]\n",
    "data_test = data_test[data_test['speaker'].isin(top_speakers)]\n",
    "\n",
    "print('\\n' + 'Train: ', len(data_train), ' Dev: ', len(data_dev), ' Test: ', len(data_test))"
   ]
  },
  {
   "cell_type": "markdown",
   "metadata": {},
   "source": [
    "Load the sound waves from .wav files as arrays"
   ]
  },
  {
   "cell_type": "code",
   "execution_count": 7,
   "metadata": {
    "scrolled": true
   },
   "outputs": [],
   "source": [
    "data_train['sound_wave'] = [wavfile.read('../../shared/datasets/cpm_cut/' + a.split('/')[-1])[1] for a in data_train['wav_filename'].tolist()]\n",
    "data_dev['sound_wave'] = [wavfile.read('../../shared/datasets/cpm_cut/' + a.split('/')[-1])[1] for a in data_dev['wav_filename'].tolist()]\n",
    "data_test['sound_wave'] = [wavfile.read('../../shared/datasets/cpm_cut/' + a.split('/')[-1])[1] for a in data_test['wav_filename'].tolist()]"
   ]
  },
  {
   "cell_type": "code",
   "execution_count": 8,
   "metadata": {},
   "outputs": [
    {
     "name": "stdout",
     "output_type": "stream",
     "text": [
      "[ -72 -116  -95 ... -185  -50   -3]\n"
     ]
    }
   ],
   "source": [
    "print(data_train['sound_wave'].values[0])"
   ]
  },
  {
   "cell_type": "code",
   "execution_count": 9,
   "metadata": {},
   "outputs": [
    {
     "name": "stdout",
     "output_type": "stream",
     "text": [
      "Max len:   1388960   Min len:  5120\n"
     ]
    }
   ],
   "source": [
    "max_len = max([len(max(data_train['sound_wave'], key=len)), len(max(data_dev['sound_wave'], key=len)), len(max(data_test['sound_wave'], key=len))])\n",
    "min_len = min([len(min(data_train['sound_wave'], key=len)), len(min(data_dev['sound_wave'], key=len)), len(min(data_test['sound_wave'], key=len))])\n",
    "print('Max len:  ', max_len, '  Min len: ', min_len)"
   ]
  },
  {
   "cell_type": "markdown",
   "metadata": {},
   "source": [
    "Function which extracts the middle part (equally trims both ends) of a sound wave (or any other array) to specified length"
   ]
  },
  {
   "cell_type": "code",
   "execution_count": 10,
   "metadata": {},
   "outputs": [],
   "source": [
    "def cut_middle(array, cut_length):\n",
    "    if cut_length > len(array): return array\n",
    "    if cut_length <= 0: return []\n",
    "    return array[math.floor((len(array)-cut_length)/2) :\n",
    "                 cut_length+math.floor((len(array)-cut_length)/2)]"
   ]
  },
  {
   "cell_type": "markdown",
   "metadata": {},
   "source": [
    "Select rows with long enough sound waves and using the above function to equal their lengths"
   ]
  },
  {
   "cell_type": "code",
   "execution_count": 11,
   "metadata": {},
   "outputs": [
    {
     "name": "stdout",
     "output_type": "stream",
     "text": [
      "Train:  5954  Dev:  1721  Test:  861\n",
      "                                   wav_filename  wav_filesize  \\\n",
      "2      /opt/shared/datasets/cpm_cut/17_1045.wav        263884   \n",
      "5      /opt/shared/datasets/cpm_cut/12_2612.wav        275244   \n",
      "21      /opt/shared/datasets/cpm_cut/5_2676.wav        373164   \n",
      "22      /opt/shared/datasets/cpm_cut/0_2844.wav        217804   \n",
      "31      /opt/shared/datasets/cpm_cut/4_2899.wav        311884   \n",
      "...                                         ...           ...   \n",
      "36041   /opt/shared/datasets/cpm_cut/2_2257.wav        300524   \n",
      "36042    /opt/shared/datasets/cpm_cut/17_65.wav        310124   \n",
      "36045    /opt/shared/datasets/cpm_cut/8_570.wav        252364   \n",
      "36048    /opt/shared/datasets/cpm_cut/2_718.wav        222124   \n",
      "36053   /opt/shared/datasets/cpm_cut/0_2726.wav        307084   \n",
      "\n",
      "                                              transcript              speaker  \\\n",
      "2      a užaslá veřejnost spolu s námi že se navzájem...  Miroslav Grebeníček   \n",
      "5      proti čtyři návrh byl přijat já mohu konstatov...     Vlasta Parkanová   \n",
      "21     to je to řešení na jedno období kdo má momentá...    Miroslava Němcová   \n",
      "22     zastávám zásadu nutnosti diktatury proletariát...  Miroslav Grebeníček   \n",
      "31     by nevedla k tomu aby byl vyčerpán příslušný o...           Petr Nečas   \n",
      "...                                                  ...                  ...   \n",
      "36041  myslím si že pan kubice by to tady měl říct ja...           David Rath   \n",
      "36042  obracíme se na vás s naléhavou žádostí o pomoc...     Bohuslav Sobotka   \n",
      "36045  neboť několik advokátů zpochybnilo jistý monop...           Petr Nečas   \n",
      "36048  no ale že byly ty obálky to snad nepopře z vás...     Lubomír Zaorálek   \n",
      "36053  těchto kriminálních skutků je přinejmenším odp...  Miroslav Grebeníček   \n",
      "\n",
      "                                              sound_wave  \n",
      "2      [-651, -632, -703, 1113, -741, -1423, -1213, 9...  \n",
      "5      [-2758, -3164, -3918, -4217, -4212, -3852, -33...  \n",
      "21     [402, 509, 860, 1339, 1285, 883, 316, 207, 198...  \n",
      "22     [153, 222, 246, 199, 172, 359, 340, 97, -51, -...  \n",
      "31     [735, 439, 478, 657, 649, 492, 374, 307, 17, -...  \n",
      "...                                                  ...  \n",
      "36041  [1498, 1305, 835, 1018, 754, 1116, 991, 712, 8...  \n",
      "36042  [3609, 4288, 4272, 3232, 1678, 386, -296, -101...  \n",
      "36045  [-4668, -2816, -2228, -3288, -5121, -5339, -45...  \n",
      "36048  [87, 101, 83, 42, 64, 118, 119, 142, 106, 106,...  \n",
      "36053  [3126, 505, -229, -5139, 3803, -2432, -2554, -...  \n",
      "\n",
      "[5954 rows x 5 columns]\n"
     ]
    }
   ],
   "source": [
    "wave_length = 100000\n",
    "\n",
    "data_train = data_train[data_train['sound_wave'].apply(lambda x: len(x)) >= wave_length]\n",
    "data_dev = data_dev[data_dev['sound_wave'].apply(lambda x: len(x)) >= wave_length]\n",
    "data_test = data_test[data_test['sound_wave'].apply(lambda x: len(x)) >= wave_length]\n",
    "\n",
    "print('Train: ', len(data_train), ' Dev: ', len(data_dev), ' Test: ', len(data_test) )\n",
    "\n",
    "data_train['sound_wave'] = [cut_middle(w, wave_length) for w in data_train['sound_wave']]\n",
    "data_dev['sound_wave'] = [cut_middle(w, wave_length) for w in data_dev['sound_wave']]\n",
    "data_test['sound_wave'] = [cut_middle(w, wave_length) for w in data_test['sound_wave']]\n",
    "\n",
    "print(data_train)"
   ]
  },
  {
   "cell_type": "markdown",
   "metadata": {},
   "source": [
    "Creation of encoder/decoder for speaker names (string<->int mapping) + new column for encoded speakers"
   ]
  },
  {
   "cell_type": "code",
   "execution_count": 12,
   "metadata": {},
   "outputs": [
    {
     "name": "stdout",
     "output_type": "stream",
     "text": [
      "Train:  5954  Dev:  1721  Test:  861\n"
     ]
    }
   ],
   "source": [
    "encoder = {}\n",
    "decoder = {}\n",
    "cnt = 0\n",
    "for s in itertools.chain(data_train['speaker'], data_dev['speaker'], data_test['speaker']):\n",
    "    if not s in encoder:\n",
    "        encoder[s] = cnt\n",
    "        decoder[cnt] = s\n",
    "        cnt += 1\n",
    "\n",
    "data_train['speaker_enc'] = [encoder[s] for s in data_train['speaker']]\n",
    "data_dev['speaker_enc'] = [encoder[s] for s in data_dev['speaker']]\n",
    "data_test['speaker_enc'] = [encoder[s] for s in data_test['speaker']]"
   ]
  },
  {
   "cell_type": "markdown",
   "metadata": {},
   "source": [
    "Label to categorical"
   ]
  },
  {
   "cell_type": "code",
   "execution_count": 13,
   "metadata": {
    "scrolled": true
   },
   "outputs": [
    {
     "name": "stdout",
     "output_type": "stream",
     "text": [
      "(5954,)\n",
      "<class 'pandas.core.frame.DataFrame'>\n",
      "Int64Index: 5954 entries, 2 to 36053\n",
      "Data columns (total 6 columns):\n",
      "wav_filename    5954 non-null object\n",
      "wav_filesize    5954 non-null int64\n",
      "transcript      5954 non-null object\n",
      "speaker         5954 non-null category\n",
      "sound_wave      5954 non-null object\n",
      "speaker_enc     5954 non-null category\n",
      "dtypes: category(2), int64(1), object(3)\n",
      "memory usage: 245.0+ KB\n"
     ]
    }
   ],
   "source": [
    "for col in ['speaker', 'speaker_enc']:\n",
    "    data_train[col] = data_train[col].astype('category')\n",
    "    data_dev[col] = data_dev[col].astype('category')\n",
    "    data_test[col] = data_test[col].astype('category')\n",
    "\n",
    "print(data_train['sound_wave'].shape)\n",
    "\n",
    "data_train.info()"
   ]
  },
  {
   "cell_type": "markdown",
   "metadata": {},
   "source": [
    "Reshaping and extracting the sound waves to Keras feeding format"
   ]
  },
  {
   "cell_type": "code",
   "execution_count": 14,
   "metadata": {},
   "outputs": [],
   "source": [
    "x_train = np.array(data_train['sound_wave'].to_list()).reshape(len(data_train['sound_wave']), wave_length)\n",
    "x_dev = np.array(data_dev['sound_wave'].to_list()).reshape(len(data_dev['sound_wave']), wave_length)\n",
    "x_test = np.array(data_test['sound_wave'].to_list()).reshape(len(data_test['sound_wave']), wave_length)"
   ]
  },
  {
   "cell_type": "markdown",
   "metadata": {},
   "source": [
    "Extracting labels for Keras"
   ]
  },
  {
   "cell_type": "code",
   "execution_count": 15,
   "metadata": {},
   "outputs": [],
   "source": [
    "y_train = data_train['speaker_enc'].values\n",
    "y_dev = data_dev['speaker_enc'].values\n",
    "y_test = data_test['speaker_enc'].values"
   ]
  },
  {
   "cell_type": "markdown",
   "metadata": {},
   "source": [
    "Oversampling for speaker data"
   ]
  },
  {
   "cell_type": "code",
   "execution_count": 17,
   "metadata": {},
   "outputs": [],
   "source": [
    "ros = RandomOverSampler(random_state=0)\n",
    "x_train, y_train = ros.fit_resample(x_train, y_train)"
   ]
  },
  {
   "cell_type": "markdown",
   "metadata": {},
   "source": [
    "### ESC-10 dataset\n",
    "The same as above for the ESC-10 dataset for testing purposes"
   ]
  },
  {
   "cell_type": "code",
   "execution_count": 18,
   "metadata": {},
   "outputs": [],
   "source": [
    "# 10 classes\n",
    "data_ESC = pd.read_csv('../../shared/datasets/ESC-50-master/meta/esc50.csv', delimiter=',')\n",
    "data_ESC = data_ESC[data_ESC['esc10']]\n",
    "data_ESC['sound_wave'] = [wavfile.read('../../shared/datasets/ESC-50-master/audio/' + a)[1].reshape(-1, 1) for a in data_ESC['filename'].tolist()]\n",
    "ESC_wave_len = len(data_ESC['sound_wave'].to_list()[0])\n",
    "ESC_x = np.array(data_ESC['sound_wave'].to_list()).reshape(len(data_ESC['sound_wave']), ESC_wave_len)\n",
    "\n",
    "ESC_encoder = {}\n",
    "ESC_cnt = 0\n",
    "for s in data_ESC['category']:\n",
    "    if not s in ESC_encoder:\n",
    "        ESC_encoder[s] = ESC_cnt\n",
    "        ESC_cnt += 1\n",
    "\n",
    "data_ESC['category_enc'] = [ESC_encoder[s] for s in data_ESC['category']]\n",
    "\n",
    "ESC_y = data_ESC['category_enc'].values\n",
    "\n",
    "ESC_x_train, ESC_x_dev, ESC_y_train, ESC_y_dev = train_test_split(ESC_x, ESC_y, test_size=0.2)"
   ]
  },
  {
   "cell_type": "markdown",
   "metadata": {},
   "source": [
    "## Keras CNN models\n",
    "### Hyperparameters and other options"
   ]
  },
  {
   "cell_type": "code",
   "execution_count": 19,
   "metadata": {},
   "outputs": [],
   "source": [
    "opt = 'adam'\n",
    "loss_f = 'categorical_crossentropy'\n",
    "\n",
    "conv_width_1  = 100\n",
    "conv_stride_1 = 10\n",
    "conv_width_2  = 160\n",
    "conv_stride_2 = 10\n",
    "drop_out = 0.5\n",
    "max_pooling = 10\n",
    "\n",
    "batch_size = 32\n",
    "batch_size_ESC = 16\n",
    "\n",
    "epochs = 40\n",
    "epochs_ESC = 100"
   ]
  },
  {
   "cell_type": "markdown",
   "metadata": {},
   "source": [
    "In models A, there's raw audio being fed to the keras model"
   ]
  },
  {
   "cell_type": "code",
   "execution_count": 20,
   "metadata": {
    "scrolled": true
   },
   "outputs": [
    {
     "name": "stdout",
     "output_type": "stream",
     "text": [
      "WARNING:tensorflow:From /opt/venvs/deepspeech-train-venv/lib/python3.6/site-packages/tensorflow/python/ops/init_ops.py:1251: calling VarianceScaling.__init__ (from tensorflow.python.ops.init_ops) with dtype is deprecated and will be removed in a future version.\n",
      "Instructions for updating:\n",
      "Call initializer instance with the dtype argument instead of passing it to the constructor\n"
     ]
    }
   ],
   "source": [
    "model_A     = tf.keras.Sequential()\n",
    "model_ESC_A = tf.keras.Sequential()\n",
    "\n",
    "for model, wav_l in zip([model_A, model_ESC_A], [wave_length, ESC_wave_len]):\n",
    "    model.add(Reshape((wav_l, 1), input_shape=(wav_l,)))\n",
    "    model.add(Conv1D(conv_width_1, conv_stride_1, activation='relu'))\n",
    "    model.add(Conv1D(conv_width_1, conv_stride_1, activation='relu'))\n",
    "    model.add(MaxPooling1D(max_pooling))\n",
    "    model.add(Conv1D(conv_width_2, conv_stride_2, activation='relu'))\n",
    "    model.add(Conv1D(conv_width_2, conv_stride_2, activation='relu'))\n",
    "    model.add(GlobalAveragePooling1D())\n",
    "    model.add(Dropout(drop_out))\n",
    "    model.add(Dense(top_n_classes, activation='softmax'))"
   ]
  },
  {
   "cell_type": "markdown",
   "metadata": {},
   "source": [
    "In models B, the audio is first being processed through FFT and then fed to the convolutional layers"
   ]
  },
  {
   "cell_type": "code",
   "execution_count": 21,
   "metadata": {},
   "outputs": [],
   "source": [
    "model_B     = tf.keras.Sequential()\n",
    "model_ESC_B = tf.keras.Sequential()\n",
    "\n",
    "for model, wav_l in zip([model_B, model_ESC_B], [wave_length, ESC_wave_len]):\n",
    "    model.add(Reshape((wav_l, 1), input_shape=(wav_l,)))\n",
    "    model.add(Lambda(lambda v: tf.cast(tf.spectral.fft(tf.cast(v,dtype=tf.complex64)),tf.float32)))\n",
    "    model.add(Conv1D(conv_width_1, conv_stride_1, activation='relu', input_shape=(wave_length, 1)))\n",
    "    model.add(Conv1D(conv_width_1, conv_stride_1, activation='relu'))\n",
    "    model.add(MaxPooling1D(max_pooling))\n",
    "    model.add(Conv1D(conv_width_2, conv_stride_2, activation='relu'))\n",
    "    model.add(Conv1D(conv_width_2, conv_stride_2, activation='relu'))\n",
    "    model.add(GlobalAveragePooling1D())\n",
    "    model.add(Dropout(drop_out))\n",
    "    model.add(Dense(top_n_classes, activation='softmax'))"
   ]
  },
  {
   "cell_type": "markdown",
   "metadata": {},
   "source": [
    "In models C, the FFT is applied in the intermidiate convolutional layers on the audio \"frames\" cut by the convolutional filters"
   ]
  },
  {
   "cell_type": "code",
   "execution_count": 22,
   "metadata": {},
   "outputs": [],
   "source": [
    "model_C     = tf.keras.Sequential()\n",
    "model_ESC_C = tf.keras.Sequential()\n",
    "\n",
    "for model, wav_l in zip([model_C, model_ESC_C], [wave_length, ESC_wave_len]):\n",
    "    model.add(Reshape((wav_l, 1), input_shape=(wav_l,)))\n",
    "    model.add(Conv1D(conv_width_1, conv_stride_1, activation='relu', input_shape=(wave_length, 1)))\n",
    "    model.add(Conv1D(conv_width_1, conv_stride_1, activation='relu'))\n",
    "    model.add(MaxPooling1D(max_pooling))\n",
    "    model.add(Lambda(lambda v: tf.cast(tf.spectral.fft(tf.cast(v,dtype=tf.complex64)),tf.float32)))\n",
    "    model.add(Conv1D(conv_width_2, conv_stride_2, activation='relu'))\n",
    "    model.add(Conv1D(conv_width_2, conv_stride_2, activation='relu'))\n",
    "    model.add(GlobalAveragePooling1D())\n",
    "    model.add(Dropout(drop_out))\n",
    "    model.add(Dense(top_n_classes, activation='softmax'))"
   ]
  },
  {
   "cell_type": "markdown",
   "metadata": {},
   "source": [
    "Compile the models"
   ]
  },
  {
   "cell_type": "code",
   "execution_count": 23,
   "metadata": {},
   "outputs": [],
   "source": [
    "for model in [model_A, model_B, model_C, model_ESC_A, model_ESC_B, model_ESC_C]:\n",
    "    model.compile(optimizer = opt, loss = loss_f, metrics=['accuracy'])"
   ]
  },
  {
   "cell_type": "markdown",
   "metadata": {},
   "source": [
    "## Training"
   ]
  },
  {
   "cell_type": "code",
   "execution_count": 24,
   "metadata": {
    "scrolled": true
   },
   "outputs": [
    {
     "name": "stdout",
     "output_type": "stream",
     "text": [
      "Train on 9030 samples, validate on 1721 samples\n",
      "Epoch 1/40\n",
      "9030/9030 [==============================] - 135s 15ms/sample - loss: 6.3289 - acc: 0.4725 - val_loss: 1.0370 - val_acc: 0.6601\n",
      "Epoch 2/40\n",
      "9030/9030 [==============================] - 130s 14ms/sample - loss: 0.7336 - acc: 0.7979 - val_loss: 0.6948 - val_acc: 0.8106\n",
      "Epoch 3/40\n",
      "9030/9030 [==============================] - 130s 14ms/sample - loss: 0.5537 - acc: 0.8547 - val_loss: 0.5272 - val_acc: 0.8815\n",
      "Epoch 4/40\n",
      "9030/9030 [==============================] - 130s 14ms/sample - loss: 0.4587 - acc: 0.8842 - val_loss: 0.3632 - val_acc: 0.9297\n",
      "Epoch 5/40\n",
      "9030/9030 [==============================] - 130s 14ms/sample - loss: 0.4041 - acc: 0.9007 - val_loss: 0.3720 - val_acc: 0.9169\n",
      "Epoch 6/40\n",
      "9030/9030 [==============================] - 130s 14ms/sample - loss: 0.3587 - acc: 0.9068 - val_loss: 0.3424 - val_acc: 0.9285\n",
      "Epoch 7/40\n",
      "9030/9030 [==============================] - 130s 14ms/sample - loss: 0.3541 - acc: 0.9076 - val_loss: 0.2914 - val_acc: 0.9442\n",
      "Epoch 8/40\n",
      "9030/9030 [==============================] - 130s 14ms/sample - loss: 0.3169 - acc: 0.9193 - val_loss: 0.2850 - val_acc: 0.9413\n",
      "Epoch 9/40\n",
      "9030/9030 [==============================] - 130s 14ms/sample - loss: 0.2962 - acc: 0.9207 - val_loss: 0.3278 - val_acc: 0.9343\n",
      "Epoch 10/40\n",
      "9030/9030 [==============================] - 130s 14ms/sample - loss: 0.2730 - acc: 0.9292 - val_loss: 0.3369 - val_acc: 0.9309\n",
      "Epoch 11/40\n",
      "9030/9030 [==============================] - 130s 14ms/sample - loss: 0.2525 - acc: 0.9324 - val_loss: 0.2645 - val_acc: 0.9483\n",
      "Epoch 12/40\n",
      "9030/9030 [==============================] - 130s 14ms/sample - loss: 0.2608 - acc: 0.9302 - val_loss: 0.2590 - val_acc: 0.9407\n",
      "Epoch 13/40\n",
      "9030/9030 [==============================] - 130s 14ms/sample - loss: 0.2161 - acc: 0.9404 - val_loss: 0.3273 - val_acc: 0.9442\n",
      "Epoch 14/40\n",
      "9030/9030 [==============================] - 130s 14ms/sample - loss: 0.2275 - acc: 0.9409 - val_loss: 0.2531 - val_acc: 0.9494\n",
      "Epoch 15/40\n",
      "9030/9030 [==============================] - 131s 14ms/sample - loss: 0.2077 - acc: 0.9441 - val_loss: 0.2970 - val_acc: 0.9483\n",
      "Epoch 16/40\n",
      "9030/9030 [==============================] - 130s 14ms/sample - loss: 0.2028 - acc: 0.9481 - val_loss: 0.2522 - val_acc: 0.9535\n",
      "Epoch 17/40\n",
      "9030/9030 [==============================] - 129s 14ms/sample - loss: 0.1889 - acc: 0.9525 - val_loss: 0.2440 - val_acc: 0.9558\n",
      "Epoch 18/40\n",
      "9030/9030 [==============================] - 130s 14ms/sample - loss: 0.1795 - acc: 0.9550 - val_loss: 0.2437 - val_acc: 0.9564\n",
      "Epoch 19/40\n",
      "9030/9030 [==============================] - 130s 14ms/sample - loss: 0.1952 - acc: 0.9497 - val_loss: 0.2492 - val_acc: 0.9599\n",
      "Epoch 20/40\n",
      "9030/9030 [==============================] - 130s 14ms/sample - loss: 0.1726 - acc: 0.9547 - val_loss: 0.2762 - val_acc: 0.9553\n",
      "Epoch 21/40\n",
      "9030/9030 [==============================] - 130s 14ms/sample - loss: 0.1663 - acc: 0.9560 - val_loss: 0.2794 - val_acc: 0.9564\n",
      "Epoch 22/40\n",
      "9030/9030 [==============================] - 130s 14ms/sample - loss: 0.1588 - acc: 0.9596 - val_loss: 0.2557 - val_acc: 0.9582\n",
      "Epoch 23/40\n",
      "9030/9030 [==============================] - 130s 14ms/sample - loss: 0.1642 - acc: 0.9564 - val_loss: 0.3056 - val_acc: 0.9477\n",
      "Epoch 24/40\n",
      "9030/9030 [==============================] - 130s 14ms/sample - loss: 0.1578 - acc: 0.9590 - val_loss: 0.2911 - val_acc: 0.9553\n",
      "Epoch 25/40\n",
      "9030/9030 [==============================] - 130s 14ms/sample - loss: 0.1451 - acc: 0.9609 - val_loss: 0.2802 - val_acc: 0.9547\n",
      "Epoch 26/40\n",
      "9030/9030 [==============================] - 130s 14ms/sample - loss: 0.1520 - acc: 0.9590 - val_loss: 0.2597 - val_acc: 0.9605\n",
      "Epoch 27/40\n",
      "9030/9030 [==============================] - 130s 14ms/sample - loss: 0.1528 - acc: 0.9561 - val_loss: 0.3344 - val_acc: 0.9587\n",
      "Epoch 28/40\n",
      "9030/9030 [==============================] - 130s 14ms/sample - loss: 0.1280 - acc: 0.9652 - val_loss: 0.2722 - val_acc: 0.9657\n",
      "Epoch 29/40\n",
      "9030/9030 [==============================] - 129s 14ms/sample - loss: 0.1309 - acc: 0.9648 - val_loss: 0.2861 - val_acc: 0.9587\n",
      "Epoch 30/40\n",
      "9030/9030 [==============================] - 130s 14ms/sample - loss: 0.1345 - acc: 0.9612 - val_loss: 0.3915 - val_acc: 0.9553\n",
      "Epoch 31/40\n",
      "9030/9030 [==============================] - 130s 14ms/sample - loss: 0.1256 - acc: 0.9645 - val_loss: 0.2810 - val_acc: 0.9628\n",
      "Epoch 32/40\n",
      "9030/9030 [==============================] - 130s 14ms/sample - loss: 0.1317 - acc: 0.9639 - val_loss: 0.3327 - val_acc: 0.9535\n",
      "Epoch 33/40\n",
      "9030/9030 [==============================] - 130s 14ms/sample - loss: 0.1033 - acc: 0.9713 - val_loss: 0.4610 - val_acc: 0.9570\n",
      "Epoch 34/40\n",
      "9030/9030 [==============================] - 130s 14ms/sample - loss: 0.1235 - acc: 0.9674 - val_loss: 0.3008 - val_acc: 0.9558\n",
      "Epoch 35/40\n",
      "9030/9030 [==============================] - 130s 14ms/sample - loss: 0.1160 - acc: 0.9678 - val_loss: 0.5469 - val_acc: 0.9367\n",
      "Epoch 36/40\n",
      "9030/9030 [==============================] - 130s 14ms/sample - loss: 0.1351 - acc: 0.9632 - val_loss: 0.3698 - val_acc: 0.9541\n",
      "Epoch 37/40\n",
      "9030/9030 [==============================] - 130s 14ms/sample - loss: 0.0950 - acc: 0.9712 - val_loss: 0.4077 - val_acc: 0.9593\n",
      "Epoch 38/40\n",
      "9030/9030 [==============================] - 130s 14ms/sample - loss: 0.0939 - acc: 0.9740 - val_loss: 0.3407 - val_acc: 0.9587\n",
      "Epoch 39/40\n",
      "9030/9030 [==============================] - 130s 14ms/sample - loss: 0.0954 - acc: 0.9725 - val_loss: 0.4169 - val_acc: 0.9558\n",
      "Epoch 40/40\n",
      "9030/9030 [==============================] - 130s 14ms/sample - loss: 0.1081 - acc: 0.9692 - val_loss: 0.3893 - val_acc: 0.9617\n"
     ]
    }
   ],
   "source": [
    "history_A = model_A.fit(x_train,\n",
    "                        to_categorical(y_train), \n",
    "                        validation_data=(x_dev, to_categorical(y_dev)),\n",
    "                        epochs=epochs,\n",
    "                        batch_size=batch_size)"
   ]
  },
  {
   "cell_type": "code",
   "execution_count": 25,
   "metadata": {
    "scrolled": true
   },
   "outputs": [
    {
     "name": "stdout",
     "output_type": "stream",
     "text": [
      "Train on 9030 samples, validate on 1721 samples\n",
      "Epoch 1/40\n",
      "9030/9030 [==============================] - 131s 14ms/sample - loss: 6.7332 - acc: 0.4351 - val_loss: 0.7371 - val_acc: 0.8077\n",
      "Epoch 2/40\n",
      "9030/9030 [==============================] - 130s 14ms/sample - loss: 0.7489 - acc: 0.7868 - val_loss: 0.5535 - val_acc: 0.8542\n",
      "Epoch 3/40\n",
      "9030/9030 [==============================] - 130s 14ms/sample - loss: 0.5595 - acc: 0.8547 - val_loss: 0.5643 - val_acc: 0.8809\n",
      "Epoch 4/40\n",
      "9030/9030 [==============================] - 131s 14ms/sample - loss: 0.4889 - acc: 0.8752 - val_loss: 0.4750 - val_acc: 0.8960\n",
      "Epoch 5/40\n",
      "9030/9030 [==============================] - 130s 14ms/sample - loss: 0.4427 - acc: 0.8897 - val_loss: 0.3711 - val_acc: 0.9192\n",
      "Epoch 6/40\n",
      "9030/9030 [==============================] - 131s 14ms/sample - loss: 0.3787 - acc: 0.9037 - val_loss: 0.3376 - val_acc: 0.9297\n",
      "Epoch 7/40\n",
      "9030/9030 [==============================] - 130s 14ms/sample - loss: 0.3454 - acc: 0.9099 - val_loss: 0.3433 - val_acc: 0.9320\n",
      "Epoch 8/40\n",
      "9030/9030 [==============================] - 130s 14ms/sample - loss: 0.3190 - acc: 0.9154 - val_loss: 0.3071 - val_acc: 0.9402\n",
      "Epoch 9/40\n",
      "9030/9030 [==============================] - 130s 14ms/sample - loss: 0.2977 - acc: 0.9225 - val_loss: 0.2864 - val_acc: 0.9448\n",
      "Epoch 10/40\n",
      "9030/9030 [==============================] - 130s 14ms/sample - loss: 0.2785 - acc: 0.9268 - val_loss: 0.3290 - val_acc: 0.9268\n",
      "Epoch 11/40\n",
      "9030/9030 [==============================] - 130s 14ms/sample - loss: 0.2658 - acc: 0.9287 - val_loss: 0.3047 - val_acc: 0.9402\n",
      "Epoch 12/40\n",
      "9030/9030 [==============================] - 130s 14ms/sample - loss: 0.2595 - acc: 0.9346 - val_loss: 0.2687 - val_acc: 0.9442\n",
      "Epoch 13/40\n",
      "9030/9030 [==============================] - 130s 14ms/sample - loss: 0.2432 - acc: 0.9390 - val_loss: 0.3052 - val_acc: 0.9442\n",
      "Epoch 14/40\n",
      "9030/9030 [==============================] - 130s 14ms/sample - loss: 0.2334 - acc: 0.9385 - val_loss: 0.2964 - val_acc: 0.9431\n",
      "Epoch 15/40\n",
      "9030/9030 [==============================] - 130s 14ms/sample - loss: 0.2116 - acc: 0.9439 - val_loss: 0.2527 - val_acc: 0.9535\n",
      "Epoch 16/40\n",
      "9030/9030 [==============================] - 130s 14ms/sample - loss: 0.2085 - acc: 0.9445 - val_loss: 0.2592 - val_acc: 0.9471\n",
      "Epoch 17/40\n",
      "9030/9030 [==============================] - 130s 14ms/sample - loss: 0.1970 - acc: 0.9475 - val_loss: 0.2702 - val_acc: 0.9541\n",
      "Epoch 18/40\n",
      "9030/9030 [==============================] - 130s 14ms/sample - loss: 0.2034 - acc: 0.9487 - val_loss: 0.2455 - val_acc: 0.9570\n",
      "Epoch 19/40\n",
      "9030/9030 [==============================] - 130s 14ms/sample - loss: 0.1842 - acc: 0.9503 - val_loss: 0.2622 - val_acc: 0.9500\n",
      "Epoch 20/40\n",
      "9030/9030 [==============================] - 130s 14ms/sample - loss: 0.1754 - acc: 0.9539 - val_loss: 0.2818 - val_acc: 0.9483\n",
      "Epoch 21/40\n",
      "9030/9030 [==============================] - 130s 14ms/sample - loss: 0.1843 - acc: 0.9515 - val_loss: 0.3931 - val_acc: 0.9436\n",
      "Epoch 22/40\n",
      "9030/9030 [==============================] - 130s 14ms/sample - loss: 0.1819 - acc: 0.9546 - val_loss: 0.2630 - val_acc: 0.9489\n",
      "Epoch 23/40\n",
      "9030/9030 [==============================] - 130s 14ms/sample - loss: 0.1743 - acc: 0.9551 - val_loss: 0.2374 - val_acc: 0.9564\n",
      "Epoch 24/40\n",
      "9030/9030 [==============================] - 130s 14ms/sample - loss: 0.1719 - acc: 0.9550 - val_loss: 0.2547 - val_acc: 0.9617\n",
      "Epoch 25/40\n",
      "9030/9030 [==============================] - 130s 14ms/sample - loss: 0.1475 - acc: 0.9595 - val_loss: 0.2630 - val_acc: 0.9553\n",
      "Epoch 26/40\n",
      "9030/9030 [==============================] - 130s 14ms/sample - loss: 0.1713 - acc: 0.9560 - val_loss: 0.3067 - val_acc: 0.9524\n",
      "Epoch 27/40\n",
      "9030/9030 [==============================] - 130s 14ms/sample - loss: 0.1348 - acc: 0.9631 - val_loss: 0.2800 - val_acc: 0.9605\n",
      "Epoch 28/40\n",
      "9030/9030 [==============================] - 130s 14ms/sample - loss: 0.1325 - acc: 0.9658 - val_loss: 0.2413 - val_acc: 0.9617\n",
      "Epoch 29/40\n",
      "9030/9030 [==============================] - 130s 14ms/sample - loss: 0.1499 - acc: 0.9609 - val_loss: 0.3153 - val_acc: 0.9582\n",
      "Epoch 30/40\n",
      "9030/9030 [==============================] - 130s 14ms/sample - loss: 0.1265 - acc: 0.9632 - val_loss: 0.2403 - val_acc: 0.9547\n",
      "Epoch 31/40\n",
      "9030/9030 [==============================] - 130s 14ms/sample - loss: 0.1324 - acc: 0.9645 - val_loss: 0.2448 - val_acc: 0.9611\n",
      "Epoch 32/40\n",
      "9030/9030 [==============================] - 130s 14ms/sample - loss: 0.1245 - acc: 0.9658 - val_loss: 0.2355 - val_acc: 0.9553\n",
      "Epoch 33/40\n",
      "9030/9030 [==============================] - 130s 14ms/sample - loss: 0.1318 - acc: 0.9620 - val_loss: 0.2986 - val_acc: 0.9564\n",
      "Epoch 34/40\n",
      "9030/9030 [==============================] - 129s 14ms/sample - loss: 0.1105 - acc: 0.9685 - val_loss: 0.3193 - val_acc: 0.9593\n",
      "Epoch 35/40\n",
      "9030/9030 [==============================] - 130s 14ms/sample - loss: 0.1024 - acc: 0.9691 - val_loss: 0.2547 - val_acc: 0.9587\n",
      "Epoch 36/40\n",
      "9030/9030 [==============================] - 130s 14ms/sample - loss: 0.1176 - acc: 0.9679 - val_loss: 0.2632 - val_acc: 0.9535\n",
      "Epoch 37/40\n",
      "9030/9030 [==============================] - 130s 14ms/sample - loss: 0.1150 - acc: 0.9680 - val_loss: 0.2691 - val_acc: 0.9558\n",
      "Epoch 38/40\n",
      "9030/9030 [==============================] - 130s 14ms/sample - loss: 0.1432 - acc: 0.9610 - val_loss: 0.2943 - val_acc: 0.9628\n",
      "Epoch 39/40\n",
      "9030/9030 [==============================] - 129s 14ms/sample - loss: 0.0944 - acc: 0.9722 - val_loss: 0.2525 - val_acc: 0.9524\n",
      "Epoch 40/40\n",
      "9030/9030 [==============================] - 130s 14ms/sample - loss: 0.0965 - acc: 0.9712 - val_loss: 0.3716 - val_acc: 0.9541\n"
     ]
    }
   ],
   "source": [
    "history_B = model_B.fit(x_train,\n",
    "                        to_categorical(y_train), \n",
    "                        validation_data=(x_dev, to_categorical(y_dev)),\n",
    "                        epochs=epochs,\n",
    "                        batch_size=batch_size)"
   ]
  },
  {
   "cell_type": "code",
   "execution_count": 26,
   "metadata": {
    "scrolled": true
   },
   "outputs": [
    {
     "name": "stdout",
     "output_type": "stream",
     "text": [
      "Train on 9030 samples, validate on 1721 samples\n",
      "Epoch 1/40\n",
      "9030/9030 [==============================] - 133s 15ms/sample - loss: 36.4161 - acc: 0.3246 - val_loss: 1.2590 - val_acc: 0.5735\n",
      "Epoch 2/40\n",
      "9030/9030 [==============================] - 133s 15ms/sample - loss: 1.1975 - acc: 0.6199 - val_loss: 0.8465 - val_acc: 0.7606\n",
      "Epoch 3/40\n",
      "9030/9030 [==============================] - 133s 15ms/sample - loss: 0.9219 - acc: 0.7221 - val_loss: 0.6779 - val_acc: 0.8437\n",
      "Epoch 4/40\n",
      "9030/9030 [==============================] - 133s 15ms/sample - loss: 0.8070 - acc: 0.7654 - val_loss: 0.6479 - val_acc: 0.8315\n",
      "Epoch 5/40\n",
      "9030/9030 [==============================] - 132s 15ms/sample - loss: 0.7289 - acc: 0.7940 - val_loss: 0.6455 - val_acc: 0.8379\n",
      "Epoch 6/40\n",
      "9030/9030 [==============================] - 132s 15ms/sample - loss: 0.6527 - acc: 0.8256 - val_loss: 0.5724 - val_acc: 0.8582\n",
      "Epoch 7/40\n",
      "9030/9030 [==============================] - 132s 15ms/sample - loss: 0.6178 - acc: 0.8373 - val_loss: 0.4975 - val_acc: 0.8960\n",
      "Epoch 8/40\n",
      "9030/9030 [==============================] - 132s 15ms/sample - loss: 0.5651 - acc: 0.8530 - val_loss: 0.4314 - val_acc: 0.8995\n",
      "Epoch 9/40\n",
      "9030/9030 [==============================] - 132s 15ms/sample - loss: 0.5239 - acc: 0.8649 - val_loss: 0.4265 - val_acc: 0.9088\n",
      "Epoch 10/40\n",
      "9030/9030 [==============================] - 133s 15ms/sample - loss: 0.5092 - acc: 0.8679 - val_loss: 0.4403 - val_acc: 0.8902\n",
      "Epoch 11/40\n",
      "9030/9030 [==============================] - 132s 15ms/sample - loss: 0.4435 - acc: 0.8863 - val_loss: 0.4483 - val_acc: 0.8873\n",
      "Epoch 12/40\n",
      "9030/9030 [==============================] - 132s 15ms/sample - loss: 0.4421 - acc: 0.8870 - val_loss: 0.4334 - val_acc: 0.9047\n",
      "Epoch 13/40\n",
      "9030/9030 [==============================] - 133s 15ms/sample - loss: 0.5231 - acc: 0.8635 - val_loss: 0.4180 - val_acc: 0.9094\n",
      "Epoch 14/40\n",
      "9030/9030 [==============================] - 132s 15ms/sample - loss: 0.4161 - acc: 0.8961 - val_loss: 0.4338 - val_acc: 0.9030\n",
      "Epoch 15/40\n",
      "9030/9030 [==============================] - 132s 15ms/sample - loss: 0.3795 - acc: 0.9033 - val_loss: 0.4093 - val_acc: 0.9117\n",
      "Epoch 16/40\n",
      "9030/9030 [==============================] - 132s 15ms/sample - loss: 0.3729 - acc: 0.9048 - val_loss: 0.3651 - val_acc: 0.9105\n",
      "Epoch 17/40\n",
      "9030/9030 [==============================] - 132s 15ms/sample - loss: 0.3747 - acc: 0.9058 - val_loss: 0.3406 - val_acc: 0.9326\n",
      "Epoch 18/40\n",
      "9030/9030 [==============================] - 132s 15ms/sample - loss: 0.3561 - acc: 0.9112 - val_loss: 0.4706 - val_acc: 0.9111\n",
      "Epoch 19/40\n",
      "9030/9030 [==============================] - 132s 15ms/sample - loss: 0.3477 - acc: 0.9124 - val_loss: 0.3629 - val_acc: 0.9285\n",
      "Epoch 20/40\n",
      "9030/9030 [==============================] - 132s 15ms/sample - loss: 0.3523 - acc: 0.9103 - val_loss: 0.3491 - val_acc: 0.9204\n",
      "Epoch 21/40\n",
      "9030/9030 [==============================] - 132s 15ms/sample - loss: 0.3109 - acc: 0.9204 - val_loss: 0.3862 - val_acc: 0.9198\n",
      "Epoch 22/40\n",
      "9030/9030 [==============================] - 132s 15ms/sample - loss: 0.3146 - acc: 0.9181 - val_loss: 0.3453 - val_acc: 0.9256\n",
      "Epoch 23/40\n",
      "9030/9030 [==============================] - 132s 15ms/sample - loss: 0.3219 - acc: 0.9165 - val_loss: 0.3771 - val_acc: 0.9192\n",
      "Epoch 24/40\n",
      "9030/9030 [==============================] - 132s 15ms/sample - loss: 0.3113 - acc: 0.9217 - val_loss: 0.3887 - val_acc: 0.9233\n",
      "Epoch 25/40\n",
      "9030/9030 [==============================] - 132s 15ms/sample - loss: 0.3322 - acc: 0.9116 - val_loss: 0.3629 - val_acc: 0.9169\n",
      "Epoch 26/40\n",
      "9030/9030 [==============================] - 132s 15ms/sample - loss: 0.2947 - acc: 0.9244 - val_loss: 0.3611 - val_acc: 0.9239\n",
      "Epoch 27/40\n",
      "9030/9030 [==============================] - 132s 15ms/sample - loss: 0.3054 - acc: 0.9230 - val_loss: 0.3981 - val_acc: 0.9349\n",
      "Epoch 28/40\n",
      "9030/9030 [==============================] - 132s 15ms/sample - loss: 0.2985 - acc: 0.9227 - val_loss: 0.4300 - val_acc: 0.9187\n",
      "Epoch 29/40\n",
      "9030/9030 [==============================] - 132s 15ms/sample - loss: 0.2886 - acc: 0.9245 - val_loss: 0.4806 - val_acc: 0.8890\n",
      "Epoch 30/40\n",
      "9030/9030 [==============================] - 132s 15ms/sample - loss: 0.3501 - acc: 0.9117 - val_loss: 0.3761 - val_acc: 0.9221\n",
      "Epoch 31/40\n",
      "9030/9030 [==============================] - 132s 15ms/sample - loss: 0.2844 - acc: 0.9246 - val_loss: 0.4013 - val_acc: 0.9216\n",
      "Epoch 32/40\n",
      "9030/9030 [==============================] - 132s 15ms/sample - loss: 0.3140 - acc: 0.9215 - val_loss: 0.4078 - val_acc: 0.9233\n",
      "Epoch 33/40\n",
      "9030/9030 [==============================] - 132s 15ms/sample - loss: 0.2754 - acc: 0.9318 - val_loss: 0.4792 - val_acc: 0.9210\n",
      "Epoch 34/40\n",
      "9030/9030 [==============================] - 132s 15ms/sample - loss: 0.2922 - acc: 0.9238 - val_loss: 0.4713 - val_acc: 0.9204\n",
      "Epoch 35/40\n",
      "9030/9030 [==============================] - 132s 15ms/sample - loss: 0.2600 - acc: 0.9351 - val_loss: 0.4725 - val_acc: 0.9198\n",
      "Epoch 36/40\n",
      "9030/9030 [==============================] - 132s 15ms/sample - loss: 0.2534 - acc: 0.9323 - val_loss: 0.4293 - val_acc: 0.9187\n",
      "Epoch 37/40\n",
      "9030/9030 [==============================] - 132s 15ms/sample - loss: 0.3034 - acc: 0.9267 - val_loss: 0.4262 - val_acc: 0.9204\n",
      "Epoch 38/40\n",
      "9030/9030 [==============================] - 132s 15ms/sample - loss: 0.2623 - acc: 0.9341 - val_loss: 0.4583 - val_acc: 0.9274\n",
      "Epoch 39/40\n",
      "9030/9030 [==============================] - 132s 15ms/sample - loss: 0.2343 - acc: 0.9365 - val_loss: 0.4227 - val_acc: 0.9279\n",
      "Epoch 40/40\n",
      "9030/9030 [==============================] - 132s 15ms/sample - loss: 0.2592 - acc: 0.9337 - val_loss: 0.4993 - val_acc: 0.9152\n"
     ]
    }
   ],
   "source": [
    "history_C = model_C.fit(x_train,\n",
    "                        to_categorical(y_train), \n",
    "                        validation_data=(x_dev, to_categorical(y_dev)),\n",
    "                        epochs=epochs,\n",
    "                        batch_size=batch_size)"
   ]
  },
  {
   "cell_type": "code",
   "execution_count": 27,
   "metadata": {},
   "outputs": [
    {
     "name": "stdout",
     "output_type": "stream",
     "text": [
      "Train on 320 samples, validate on 80 samples\n",
      "Epoch 1/100\n",
      "320/320 [==============================] - 13s 41ms/sample - loss: 82.1303 - acc: 0.1000 - val_loss: 3.3556 - val_acc: 0.1125\n",
      "Epoch 2/100\n",
      "320/320 [==============================] - 11s 34ms/sample - loss: 2.5137 - acc: 0.1312 - val_loss: 2.1270 - val_acc: 0.1375\n",
      "Epoch 3/100\n",
      "320/320 [==============================] - 11s 33ms/sample - loss: 2.1634 - acc: 0.1844 - val_loss: 2.0887 - val_acc: 0.1125\n",
      "Epoch 4/100\n",
      "320/320 [==============================] - 11s 34ms/sample - loss: 2.0729 - acc: 0.2344 - val_loss: 1.9070 - val_acc: 0.2625\n",
      "Epoch 5/100\n",
      "320/320 [==============================] - 11s 34ms/sample - loss: 2.0241 - acc: 0.3063 - val_loss: 1.8992 - val_acc: 0.2125\n",
      "Epoch 6/100\n",
      "320/320 [==============================] - 11s 33ms/sample - loss: 2.0267 - acc: 0.2969 - val_loss: 2.1105 - val_acc: 0.1250\n",
      "Epoch 7/100\n",
      "320/320 [==============================] - 11s 33ms/sample - loss: 2.0011 - acc: 0.3063 - val_loss: 1.7854 - val_acc: 0.2875\n",
      "Epoch 8/100\n",
      "320/320 [==============================] - 11s 34ms/sample - loss: 1.8174 - acc: 0.4313 - val_loss: 1.6394 - val_acc: 0.4250\n",
      "Epoch 9/100\n",
      "320/320 [==============================] - 11s 33ms/sample - loss: 1.7367 - acc: 0.4000 - val_loss: 1.5383 - val_acc: 0.5250\n",
      "Epoch 10/100\n",
      "320/320 [==============================] - 11s 33ms/sample - loss: 1.6854 - acc: 0.3875 - val_loss: 1.4759 - val_acc: 0.4125\n",
      "Epoch 11/100\n",
      "320/320 [==============================] - 11s 34ms/sample - loss: 1.6122 - acc: 0.4219 - val_loss: 1.4670 - val_acc: 0.4375\n",
      "Epoch 12/100\n",
      "320/320 [==============================] - 11s 34ms/sample - loss: 1.5747 - acc: 0.4281 - val_loss: 1.3930 - val_acc: 0.3875\n",
      "Epoch 13/100\n",
      "320/320 [==============================] - 11s 34ms/sample - loss: 1.4122 - acc: 0.4781 - val_loss: 1.3626 - val_acc: 0.4750\n",
      "Epoch 14/100\n",
      "320/320 [==============================] - 11s 33ms/sample - loss: 1.4818 - acc: 0.4437 - val_loss: 1.3522 - val_acc: 0.5125\n",
      "Epoch 15/100\n",
      "320/320 [==============================] - 11s 33ms/sample - loss: 1.6270 - acc: 0.4531 - val_loss: 1.3958 - val_acc: 0.3500\n",
      "Epoch 16/100\n",
      "320/320 [==============================] - 11s 34ms/sample - loss: 1.4507 - acc: 0.4781 - val_loss: 1.2434 - val_acc: 0.4625\n",
      "Epoch 17/100\n",
      "320/320 [==============================] - 11s 34ms/sample - loss: 1.3403 - acc: 0.5063 - val_loss: 1.2730 - val_acc: 0.5125\n",
      "Epoch 18/100\n",
      "320/320 [==============================] - 11s 33ms/sample - loss: 1.3891 - acc: 0.4906 - val_loss: 1.2354 - val_acc: 0.5125\n",
      "Epoch 19/100\n",
      "320/320 [==============================] - 11s 33ms/sample - loss: 1.2762 - acc: 0.5437 - val_loss: 1.2306 - val_acc: 0.5000\n",
      "Epoch 20/100\n",
      "320/320 [==============================] - 11s 34ms/sample - loss: 1.3257 - acc: 0.5063 - val_loss: 1.1443 - val_acc: 0.5875\n",
      "Epoch 21/100\n",
      "320/320 [==============================] - 11s 33ms/sample - loss: 1.4018 - acc: 0.5188 - val_loss: 1.1564 - val_acc: 0.5500\n",
      "Epoch 22/100\n",
      "320/320 [==============================] - 11s 34ms/sample - loss: 1.2934 - acc: 0.5031 - val_loss: 1.1374 - val_acc: 0.5875\n",
      "Epoch 23/100\n",
      "320/320 [==============================] - 11s 33ms/sample - loss: 1.1849 - acc: 0.5719 - val_loss: 1.1338 - val_acc: 0.5500\n",
      "Epoch 24/100\n",
      "320/320 [==============================] - 11s 34ms/sample - loss: 1.1928 - acc: 0.5656 - val_loss: 1.1565 - val_acc: 0.5875\n",
      "Epoch 25/100\n",
      "320/320 [==============================] - 11s 33ms/sample - loss: 1.2063 - acc: 0.5562 - val_loss: 1.5860 - val_acc: 0.3000\n",
      "Epoch 26/100\n",
      "320/320 [==============================] - 11s 33ms/sample - loss: 1.3487 - acc: 0.5000 - val_loss: 1.1464 - val_acc: 0.6000\n",
      "Epoch 27/100\n",
      "320/320 [==============================] - 11s 34ms/sample - loss: 1.1465 - acc: 0.5906 - val_loss: 1.0623 - val_acc: 0.6625\n",
      "Epoch 28/100\n",
      "320/320 [==============================] - 11s 33ms/sample - loss: 1.0648 - acc: 0.6438 - val_loss: 1.0770 - val_acc: 0.5750\n",
      "Epoch 29/100\n",
      "320/320 [==============================] - 11s 34ms/sample - loss: 1.1198 - acc: 0.6156 - val_loss: 1.1203 - val_acc: 0.6000\n",
      "Epoch 30/100\n",
      "320/320 [==============================] - 11s 34ms/sample - loss: 1.0820 - acc: 0.6250 - val_loss: 1.2070 - val_acc: 0.5875\n",
      "Epoch 31/100\n",
      "320/320 [==============================] - 11s 33ms/sample - loss: 1.1366 - acc: 0.5906 - val_loss: 1.1526 - val_acc: 0.6000\n",
      "Epoch 32/100\n",
      "320/320 [==============================] - 11s 33ms/sample - loss: 1.0582 - acc: 0.6250 - val_loss: 1.1778 - val_acc: 0.5250\n",
      "Epoch 33/100\n",
      "320/320 [==============================] - 11s 33ms/sample - loss: 1.1232 - acc: 0.6000 - val_loss: 1.0635 - val_acc: 0.6000\n",
      "Epoch 34/100\n",
      "320/320 [==============================] - 11s 34ms/sample - loss: 1.0167 - acc: 0.6531 - val_loss: 0.9318 - val_acc: 0.6375\n",
      "Epoch 35/100\n",
      "320/320 [==============================] - 11s 33ms/sample - loss: 0.9458 - acc: 0.6438 - val_loss: 1.1801 - val_acc: 0.6250\n",
      "Epoch 36/100\n",
      "320/320 [==============================] - 11s 33ms/sample - loss: 1.0329 - acc: 0.6313 - val_loss: 1.0245 - val_acc: 0.5875\n",
      "Epoch 37/100\n",
      "320/320 [==============================] - 11s 34ms/sample - loss: 1.0400 - acc: 0.6125 - val_loss: 1.3804 - val_acc: 0.4500\n",
      "Epoch 38/100\n",
      "320/320 [==============================] - 11s 33ms/sample - loss: 1.0165 - acc: 0.6313 - val_loss: 1.0694 - val_acc: 0.5750\n",
      "Epoch 39/100\n",
      "320/320 [==============================] - 11s 33ms/sample - loss: 0.9848 - acc: 0.6656 - val_loss: 1.2818 - val_acc: 0.5625\n",
      "Epoch 40/100\n",
      "320/320 [==============================] - 11s 33ms/sample - loss: 1.1079 - acc: 0.6125 - val_loss: 1.0249 - val_acc: 0.6625\n",
      "Epoch 41/100\n",
      "320/320 [==============================] - 11s 33ms/sample - loss: 0.9294 - acc: 0.6781 - val_loss: 1.0211 - val_acc: 0.5750\n",
      "Epoch 42/100\n",
      "320/320 [==============================] - 11s 33ms/sample - loss: 0.9818 - acc: 0.6500 - val_loss: 1.0016 - val_acc: 0.6250\n",
      "Epoch 43/100\n",
      "320/320 [==============================] - 11s 33ms/sample - loss: 0.9401 - acc: 0.7125 - val_loss: 0.9764 - val_acc: 0.6375\n",
      "Epoch 44/100\n",
      "320/320 [==============================] - 11s 33ms/sample - loss: 0.8915 - acc: 0.6625 - val_loss: 0.8615 - val_acc: 0.7000\n",
      "Epoch 45/100\n",
      "320/320 [==============================] - 11s 34ms/sample - loss: 0.8666 - acc: 0.7031 - val_loss: 0.9269 - val_acc: 0.6625\n",
      "Epoch 46/100\n",
      "320/320 [==============================] - 11s 33ms/sample - loss: 1.0145 - acc: 0.6313 - val_loss: 0.9275 - val_acc: 0.6250\n",
      "Epoch 47/100\n",
      "320/320 [==============================] - 11s 33ms/sample - loss: 0.8345 - acc: 0.7125 - val_loss: 0.9760 - val_acc: 0.7000\n",
      "Epoch 48/100\n",
      "320/320 [==============================] - 11s 33ms/sample - loss: 0.8203 - acc: 0.7219 - val_loss: 1.0565 - val_acc: 0.6875\n",
      "Epoch 49/100\n",
      "320/320 [==============================] - 11s 33ms/sample - loss: 0.8996 - acc: 0.7188 - val_loss: 0.9019 - val_acc: 0.6375\n",
      "Epoch 50/100\n",
      "320/320 [==============================] - 11s 33ms/sample - loss: 0.8090 - acc: 0.7219 - val_loss: 0.9908 - val_acc: 0.7125\n",
      "Epoch 51/100\n",
      "320/320 [==============================] - 11s 34ms/sample - loss: 0.8556 - acc: 0.7063 - val_loss: 0.8014 - val_acc: 0.6750\n",
      "Epoch 52/100\n",
      "320/320 [==============================] - 11s 33ms/sample - loss: 0.8297 - acc: 0.6969 - val_loss: 0.9190 - val_acc: 0.7000\n",
      "Epoch 53/100\n",
      "320/320 [==============================] - 11s 33ms/sample - loss: 0.8329 - acc: 0.7094 - val_loss: 0.8947 - val_acc: 0.6000\n",
      "Epoch 54/100\n",
      "320/320 [==============================] - 11s 34ms/sample - loss: 0.8099 - acc: 0.7250 - val_loss: 0.9593 - val_acc: 0.6625\n",
      "Epoch 55/100\n",
      "320/320 [==============================] - 11s 33ms/sample - loss: 0.7861 - acc: 0.7312 - val_loss: 0.8893 - val_acc: 0.6625\n",
      "Epoch 56/100\n",
      "320/320 [==============================] - 11s 33ms/sample - loss: 0.7331 - acc: 0.7594 - val_loss: 0.9043 - val_acc: 0.6500\n",
      "Epoch 57/100\n",
      "320/320 [==============================] - 11s 33ms/sample - loss: 0.7799 - acc: 0.7312 - val_loss: 0.7981 - val_acc: 0.7000\n",
      "Epoch 58/100\n",
      "320/320 [==============================] - 11s 33ms/sample - loss: 0.7634 - acc: 0.7531 - val_loss: 0.7169 - val_acc: 0.7250\n",
      "Epoch 59/100\n",
      "320/320 [==============================] - 11s 33ms/sample - loss: 0.7739 - acc: 0.7344 - val_loss: 0.8336 - val_acc: 0.7375\n",
      "Epoch 60/100\n"
     ]
    },
    {
     "name": "stdout",
     "output_type": "stream",
     "text": [
      "320/320 [==============================] - 11s 34ms/sample - loss: 0.7865 - acc: 0.7344 - val_loss: 1.0163 - val_acc: 0.6500\n",
      "Epoch 61/100\n",
      "320/320 [==============================] - 11s 34ms/sample - loss: 0.7798 - acc: 0.7563 - val_loss: 0.8267 - val_acc: 0.7000\n",
      "Epoch 62/100\n",
      "320/320 [==============================] - 11s 34ms/sample - loss: 0.7250 - acc: 0.7281 - val_loss: 0.7461 - val_acc: 0.7000\n",
      "Epoch 63/100\n",
      "320/320 [==============================] - 11s 34ms/sample - loss: 0.9025 - acc: 0.7188 - val_loss: 0.9031 - val_acc: 0.7125\n",
      "Epoch 64/100\n",
      "320/320 [==============================] - 11s 34ms/sample - loss: 0.7835 - acc: 0.7469 - val_loss: 0.8919 - val_acc: 0.7125\n",
      "Epoch 65/100\n",
      "320/320 [==============================] - 11s 34ms/sample - loss: 0.7474 - acc: 0.7406 - val_loss: 0.8386 - val_acc: 0.6750\n",
      "Epoch 66/100\n",
      "320/320 [==============================] - 11s 33ms/sample - loss: 1.0493 - acc: 0.6625 - val_loss: 1.0045 - val_acc: 0.6250\n",
      "Epoch 67/100\n",
      "320/320 [==============================] - 11s 33ms/sample - loss: 0.8087 - acc: 0.7500 - val_loss: 0.7979 - val_acc: 0.6125\n",
      "Epoch 68/100\n",
      "320/320 [==============================] - 11s 34ms/sample - loss: 0.8232 - acc: 0.7406 - val_loss: 1.0022 - val_acc: 0.6750\n",
      "Epoch 69/100\n",
      "320/320 [==============================] - 11s 34ms/sample - loss: 0.7640 - acc: 0.7594 - val_loss: 0.8542 - val_acc: 0.6750\n",
      "Epoch 70/100\n",
      "320/320 [==============================] - 11s 33ms/sample - loss: 0.9644 - acc: 0.6938 - val_loss: 1.1463 - val_acc: 0.5500\n",
      "Epoch 71/100\n",
      "320/320 [==============================] - 11s 34ms/sample - loss: 0.7708 - acc: 0.7312 - val_loss: 0.7920 - val_acc: 0.7250\n",
      "Epoch 72/100\n",
      "320/320 [==============================] - 11s 34ms/sample - loss: 0.7403 - acc: 0.7812 - val_loss: 0.8472 - val_acc: 0.6875\n",
      "Epoch 73/100\n",
      "320/320 [==============================] - 11s 33ms/sample - loss: 0.6982 - acc: 0.7688 - val_loss: 0.8639 - val_acc: 0.6875\n",
      "Epoch 74/100\n",
      "320/320 [==============================] - 11s 34ms/sample - loss: 0.7030 - acc: 0.7750 - val_loss: 0.9044 - val_acc: 0.6875\n",
      "Epoch 75/100\n",
      "320/320 [==============================] - 11s 33ms/sample - loss: 0.7778 - acc: 0.7344 - val_loss: 0.7225 - val_acc: 0.7500\n",
      "Epoch 76/100\n",
      "320/320 [==============================] - 11s 34ms/sample - loss: 0.7871 - acc: 0.7563 - val_loss: 0.9576 - val_acc: 0.6500\n",
      "Epoch 77/100\n",
      "320/320 [==============================] - 11s 34ms/sample - loss: 0.7598 - acc: 0.7500 - val_loss: 0.7304 - val_acc: 0.7375\n",
      "Epoch 78/100\n",
      "320/320 [==============================] - 11s 34ms/sample - loss: 0.7236 - acc: 0.7531 - val_loss: 0.6717 - val_acc: 0.7625\n",
      "Epoch 79/100\n",
      "320/320 [==============================] - 11s 34ms/sample - loss: 0.6994 - acc: 0.7563 - val_loss: 0.7720 - val_acc: 0.6750\n",
      "Epoch 80/100\n",
      "320/320 [==============================] - 11s 34ms/sample - loss: 0.7419 - acc: 0.7437 - val_loss: 0.8347 - val_acc: 0.7250\n",
      "Epoch 81/100\n",
      "320/320 [==============================] - 11s 34ms/sample - loss: 0.6941 - acc: 0.7906 - val_loss: 0.9135 - val_acc: 0.6250\n",
      "Epoch 82/100\n",
      "320/320 [==============================] - 11s 34ms/sample - loss: 0.6937 - acc: 0.7656 - val_loss: 0.7465 - val_acc: 0.6750\n",
      "Epoch 83/100\n",
      "320/320 [==============================] - 11s 34ms/sample - loss: 0.6236 - acc: 0.7969 - val_loss: 0.7707 - val_acc: 0.7000\n",
      "Epoch 84/100\n",
      "320/320 [==============================] - 11s 34ms/sample - loss: 0.5772 - acc: 0.8000 - val_loss: 0.7653 - val_acc: 0.7125\n",
      "Epoch 85/100\n",
      "320/320 [==============================] - 11s 34ms/sample - loss: 0.6289 - acc: 0.7750 - val_loss: 0.8816 - val_acc: 0.7250\n",
      "Epoch 86/100\n",
      "320/320 [==============================] - 11s 34ms/sample - loss: 0.6549 - acc: 0.7781 - val_loss: 0.7551 - val_acc: 0.7250\n",
      "Epoch 87/100\n",
      "320/320 [==============================] - 11s 33ms/sample - loss: 0.6108 - acc: 0.7969 - val_loss: 0.7128 - val_acc: 0.7250\n",
      "Epoch 88/100\n",
      "320/320 [==============================] - 11s 33ms/sample - loss: 0.6220 - acc: 0.7969 - val_loss: 0.7132 - val_acc: 0.7875\n",
      "Epoch 89/100\n",
      "320/320 [==============================] - 11s 33ms/sample - loss: 0.6522 - acc: 0.7969 - val_loss: 0.7546 - val_acc: 0.7125\n",
      "Epoch 90/100\n",
      "320/320 [==============================] - 11s 34ms/sample - loss: 0.5743 - acc: 0.8281 - val_loss: 0.7199 - val_acc: 0.6875\n",
      "Epoch 91/100\n",
      "320/320 [==============================] - 11s 33ms/sample - loss: 0.5620 - acc: 0.8344 - val_loss: 0.8135 - val_acc: 0.7375\n",
      "Epoch 92/100\n",
      "320/320 [==============================] - 11s 33ms/sample - loss: 0.6105 - acc: 0.8062 - val_loss: 0.8726 - val_acc: 0.7000\n",
      "Epoch 93/100\n",
      "320/320 [==============================] - 11s 34ms/sample - loss: 0.7114 - acc: 0.7656 - val_loss: 0.7706 - val_acc: 0.6875\n",
      "Epoch 94/100\n",
      "320/320 [==============================] - 11s 33ms/sample - loss: 0.6487 - acc: 0.8062 - val_loss: 0.7942 - val_acc: 0.7000\n",
      "Epoch 95/100\n",
      "320/320 [==============================] - 11s 34ms/sample - loss: 0.5848 - acc: 0.8094 - val_loss: 0.7074 - val_acc: 0.7500\n",
      "Epoch 96/100\n",
      "320/320 [==============================] - 11s 34ms/sample - loss: 0.7003 - acc: 0.7625 - val_loss: 0.9234 - val_acc: 0.6375\n",
      "Epoch 97/100\n",
      "320/320 [==============================] - 11s 34ms/sample - loss: 0.6297 - acc: 0.8125 - val_loss: 0.7930 - val_acc: 0.6875\n",
      "Epoch 98/100\n",
      "320/320 [==============================] - 11s 34ms/sample - loss: 0.6395 - acc: 0.7875 - val_loss: 0.8153 - val_acc: 0.7250\n",
      "Epoch 99/100\n",
      "320/320 [==============================] - 11s 34ms/sample - loss: 0.5671 - acc: 0.8156 - val_loss: 0.8521 - val_acc: 0.6625\n",
      "Epoch 100/100\n",
      "320/320 [==============================] - 11s 33ms/sample - loss: 0.5625 - acc: 0.8000 - val_loss: 0.8444 - val_acc: 0.7125\n"
     ]
    }
   ],
   "source": [
    "history_ESC_A = model_ESC_A.fit(ESC_x_train,\n",
    "                                to_categorical(ESC_y_train), \n",
    "                                validation_data=(ESC_x_dev, to_categorical(ESC_y_dev)),\n",
    "                                epochs=epochs_ESC,\n",
    "                                batch_size=batch_size_ESC)"
   ]
  },
  {
   "cell_type": "code",
   "execution_count": 28,
   "metadata": {},
   "outputs": [
    {
     "name": "stdout",
     "output_type": "stream",
     "text": [
      "Train on 320 samples, validate on 80 samples\n",
      "Epoch 1/100\n",
      "320/320 [==============================] - 11s 35ms/sample - loss: 77.2774 - acc: 0.1094 - val_loss: 2.5309 - val_acc: 0.1250\n",
      "Epoch 2/100\n",
      "320/320 [==============================] - 11s 34ms/sample - loss: 2.5754 - acc: 0.1813 - val_loss: 2.0916 - val_acc: 0.1000\n",
      "Epoch 3/100\n",
      "320/320 [==============================] - 11s 34ms/sample - loss: 2.1879 - acc: 0.1562 - val_loss: 2.0527 - val_acc: 0.2250\n",
      "Epoch 4/100\n",
      "320/320 [==============================] - 11s 33ms/sample - loss: 2.0776 - acc: 0.2688 - val_loss: 1.9667 - val_acc: 0.1875\n",
      "Epoch 5/100\n",
      "320/320 [==============================] - 11s 34ms/sample - loss: 1.8490 - acc: 0.3313 - val_loss: 1.8727 - val_acc: 0.2625\n",
      "Epoch 6/100\n",
      "320/320 [==============================] - 11s 34ms/sample - loss: 1.8204 - acc: 0.3781 - val_loss: 2.2376 - val_acc: 0.1500\n",
      "Epoch 7/100\n",
      "320/320 [==============================] - 11s 34ms/sample - loss: 1.9237 - acc: 0.3031 - val_loss: 1.7193 - val_acc: 0.3250\n",
      "Epoch 8/100\n",
      "320/320 [==============================] - 11s 34ms/sample - loss: 1.7772 - acc: 0.4000 - val_loss: 1.5649 - val_acc: 0.4625\n",
      "Epoch 9/100\n",
      "320/320 [==============================] - 11s 33ms/sample - loss: 1.7895 - acc: 0.3500 - val_loss: 1.6346 - val_acc: 0.3875\n",
      "Epoch 10/100\n",
      "320/320 [==============================] - 11s 34ms/sample - loss: 1.6772 - acc: 0.4062 - val_loss: 1.5031 - val_acc: 0.4625\n",
      "Epoch 11/100\n",
      "320/320 [==============================] - 11s 34ms/sample - loss: 1.6172 - acc: 0.4406 - val_loss: 1.3881 - val_acc: 0.5375\n",
      "Epoch 12/100\n",
      "320/320 [==============================] - 11s 34ms/sample - loss: 1.6002 - acc: 0.4437 - val_loss: 1.4577 - val_acc: 0.4625\n",
      "Epoch 13/100\n",
      "320/320 [==============================] - 11s 34ms/sample - loss: 1.6096 - acc: 0.4875 - val_loss: 1.5090 - val_acc: 0.4750\n",
      "Epoch 14/100\n",
      "320/320 [==============================] - 11s 34ms/sample - loss: 1.6551 - acc: 0.4531 - val_loss: 1.3982 - val_acc: 0.5250\n",
      "Epoch 15/100\n",
      "320/320 [==============================] - 11s 34ms/sample - loss: 1.5012 - acc: 0.4750 - val_loss: 1.4301 - val_acc: 0.6250\n",
      "Epoch 16/100\n",
      "320/320 [==============================] - 11s 34ms/sample - loss: 1.5933 - acc: 0.4812 - val_loss: 1.3981 - val_acc: 0.5375\n",
      "Epoch 17/100\n",
      "320/320 [==============================] - 11s 34ms/sample - loss: 1.4890 - acc: 0.5344 - val_loss: 1.2316 - val_acc: 0.5250\n",
      "Epoch 18/100\n",
      "320/320 [==============================] - 11s 34ms/sample - loss: 1.4243 - acc: 0.5156 - val_loss: 1.2761 - val_acc: 0.6250\n",
      "Epoch 19/100\n",
      "320/320 [==============================] - 11s 34ms/sample - loss: 1.4446 - acc: 0.5312 - val_loss: 1.2093 - val_acc: 0.6000\n",
      "Epoch 20/100\n",
      "320/320 [==============================] - 11s 33ms/sample - loss: 1.3180 - acc: 0.5875 - val_loss: 1.1172 - val_acc: 0.6250\n",
      "Epoch 21/100\n",
      "320/320 [==============================] - 11s 34ms/sample - loss: 3.4081 - acc: 0.4031 - val_loss: 1.4759 - val_acc: 0.4750\n",
      "Epoch 22/100\n",
      "320/320 [==============================] - 11s 34ms/sample - loss: 1.9600 - acc: 0.4000 - val_loss: 1.4369 - val_acc: 0.5500\n",
      "Epoch 23/100\n",
      "320/320 [==============================] - 11s 34ms/sample - loss: 1.6794 - acc: 0.4031 - val_loss: 1.4841 - val_acc: 0.4000\n",
      "Epoch 24/100\n",
      "320/320 [==============================] - 11s 33ms/sample - loss: 1.7977 - acc: 0.3906 - val_loss: 1.5315 - val_acc: 0.5000\n",
      "Epoch 25/100\n",
      "320/320 [==============================] - 11s 33ms/sample - loss: 1.7633 - acc: 0.4250 - val_loss: 1.5646 - val_acc: 0.4125\n",
      "Epoch 26/100\n",
      "320/320 [==============================] - 11s 34ms/sample - loss: 1.6027 - acc: 0.4719 - val_loss: 1.3735 - val_acc: 0.5375\n",
      "Epoch 27/100\n",
      "320/320 [==============================] - 11s 33ms/sample - loss: 1.4793 - acc: 0.4563 - val_loss: 1.3008 - val_acc: 0.6750\n",
      "Epoch 28/100\n",
      "320/320 [==============================] - 11s 33ms/sample - loss: 1.3696 - acc: 0.5500 - val_loss: 1.3196 - val_acc: 0.4875\n",
      "Epoch 29/100\n",
      "320/320 [==============================] - 11s 34ms/sample - loss: 1.2670 - acc: 0.5906 - val_loss: 1.1123 - val_acc: 0.6375\n",
      "Epoch 30/100\n",
      "320/320 [==============================] - 11s 34ms/sample - loss: 1.2609 - acc: 0.5813 - val_loss: 1.1145 - val_acc: 0.6750\n",
      "Epoch 31/100\n",
      "320/320 [==============================] - 11s 34ms/sample - loss: 1.1898 - acc: 0.5969 - val_loss: 1.0418 - val_acc: 0.6250\n",
      "Epoch 32/100\n",
      "320/320 [==============================] - 11s 34ms/sample - loss: 1.1216 - acc: 0.6219 - val_loss: 1.1119 - val_acc: 0.5750\n",
      "Epoch 33/100\n",
      "320/320 [==============================] - 11s 34ms/sample - loss: 1.2120 - acc: 0.6000 - val_loss: 1.0846 - val_acc: 0.6250\n",
      "Epoch 34/100\n",
      "320/320 [==============================] - 11s 34ms/sample - loss: 1.2396 - acc: 0.6313 - val_loss: 1.3023 - val_acc: 0.6000\n",
      "Epoch 35/100\n",
      "320/320 [==============================] - 11s 34ms/sample - loss: 1.2003 - acc: 0.6250 - val_loss: 1.1124 - val_acc: 0.6250\n",
      "Epoch 36/100\n",
      "320/320 [==============================] - 11s 33ms/sample - loss: 1.2878 - acc: 0.5469 - val_loss: 1.1048 - val_acc: 0.6250\n",
      "Epoch 37/100\n",
      "320/320 [==============================] - 11s 34ms/sample - loss: 1.0902 - acc: 0.6156 - val_loss: 0.9499 - val_acc: 0.6375\n",
      "Epoch 38/100\n",
      "320/320 [==============================] - 11s 34ms/sample - loss: 1.0920 - acc: 0.6750 - val_loss: 0.9635 - val_acc: 0.6750\n",
      "Epoch 39/100\n",
      "320/320 [==============================] - 11s 34ms/sample - loss: 1.0844 - acc: 0.6438 - val_loss: 1.1809 - val_acc: 0.6125\n",
      "Epoch 40/100\n",
      "320/320 [==============================] - 11s 33ms/sample - loss: 1.0217 - acc: 0.6781 - val_loss: 0.9882 - val_acc: 0.6625\n",
      "Epoch 41/100\n",
      "320/320 [==============================] - 11s 33ms/sample - loss: 0.9844 - acc: 0.6844 - val_loss: 0.8433 - val_acc: 0.7500\n",
      "Epoch 42/100\n",
      "320/320 [==============================] - 11s 33ms/sample - loss: 0.9842 - acc: 0.7031 - val_loss: 1.0718 - val_acc: 0.5875\n",
      "Epoch 43/100\n",
      "320/320 [==============================] - 11s 34ms/sample - loss: 1.0261 - acc: 0.6562 - val_loss: 0.9125 - val_acc: 0.6750\n",
      "Epoch 44/100\n",
      "320/320 [==============================] - 11s 34ms/sample - loss: 0.9316 - acc: 0.6625 - val_loss: 0.7772 - val_acc: 0.7250\n",
      "Epoch 45/100\n",
      "320/320 [==============================] - 11s 33ms/sample - loss: 0.8844 - acc: 0.7156 - val_loss: 0.7952 - val_acc: 0.7250\n",
      "Epoch 46/100\n",
      "320/320 [==============================] - 11s 33ms/sample - loss: 0.9305 - acc: 0.7156 - val_loss: 0.8976 - val_acc: 0.7125\n",
      "Epoch 47/100\n",
      "320/320 [==============================] - 11s 33ms/sample - loss: 0.8614 - acc: 0.7219 - val_loss: 0.8027 - val_acc: 0.7375\n",
      "Epoch 48/100\n",
      "320/320 [==============================] - 11s 33ms/sample - loss: 0.8565 - acc: 0.7188 - val_loss: 0.7838 - val_acc: 0.7000\n",
      "Epoch 49/100\n",
      "320/320 [==============================] - 11s 33ms/sample - loss: 0.9237 - acc: 0.6812 - val_loss: 0.8375 - val_acc: 0.7500\n",
      "Epoch 50/100\n",
      "320/320 [==============================] - 11s 33ms/sample - loss: 0.9110 - acc: 0.6969 - val_loss: 0.8849 - val_acc: 0.6375\n",
      "Epoch 51/100\n",
      "320/320 [==============================] - 11s 34ms/sample - loss: 0.8070 - acc: 0.7250 - val_loss: 0.8543 - val_acc: 0.7125\n",
      "Epoch 52/100\n",
      "320/320 [==============================] - 11s 34ms/sample - loss: 0.7157 - acc: 0.7594 - val_loss: 0.8140 - val_acc: 0.7625\n",
      "Epoch 53/100\n",
      "320/320 [==============================] - 11s 33ms/sample - loss: 0.8357 - acc: 0.7406 - val_loss: 0.7796 - val_acc: 0.6750\n",
      "Epoch 54/100\n",
      "320/320 [==============================] - 11s 33ms/sample - loss: 0.7932 - acc: 0.7312 - val_loss: 0.8757 - val_acc: 0.6875\n",
      "Epoch 55/100\n",
      "320/320 [==============================] - 11s 34ms/sample - loss: 0.9213 - acc: 0.6875 - val_loss: 0.7984 - val_acc: 0.7250\n",
      "Epoch 56/100\n",
      "320/320 [==============================] - 11s 34ms/sample - loss: 0.8000 - acc: 0.7094 - val_loss: 0.7787 - val_acc: 0.7250\n",
      "Epoch 57/100\n",
      "320/320 [==============================] - 11s 33ms/sample - loss: 0.7660 - acc: 0.7500 - val_loss: 0.8104 - val_acc: 0.7000\n",
      "Epoch 58/100\n",
      "320/320 [==============================] - 11s 34ms/sample - loss: 0.7842 - acc: 0.7094 - val_loss: 0.8701 - val_acc: 0.6625\n",
      "Epoch 59/100\n",
      "320/320 [==============================] - 11s 33ms/sample - loss: 0.7454 - acc: 0.7656 - val_loss: 0.7421 - val_acc: 0.7375\n",
      "Epoch 60/100\n"
     ]
    },
    {
     "name": "stdout",
     "output_type": "stream",
     "text": [
      "320/320 [==============================] - 11s 34ms/sample - loss: 0.7454 - acc: 0.7563 - val_loss: 0.9449 - val_acc: 0.7125\n",
      "Epoch 61/100\n",
      "320/320 [==============================] - 11s 33ms/sample - loss: 0.7730 - acc: 0.7375 - val_loss: 0.8482 - val_acc: 0.7125\n",
      "Epoch 62/100\n",
      "320/320 [==============================] - 11s 33ms/sample - loss: 0.7896 - acc: 0.7219 - val_loss: 0.8483 - val_acc: 0.6875\n",
      "Epoch 63/100\n",
      "320/320 [==============================] - 11s 34ms/sample - loss: 0.7269 - acc: 0.7719 - val_loss: 0.8879 - val_acc: 0.6625\n",
      "Epoch 64/100\n",
      "320/320 [==============================] - 11s 33ms/sample - loss: 0.7703 - acc: 0.7500 - val_loss: 0.9204 - val_acc: 0.7250\n",
      "Epoch 65/100\n",
      "320/320 [==============================] - 11s 34ms/sample - loss: 0.7892 - acc: 0.7594 - val_loss: 0.8927 - val_acc: 0.6375\n",
      "Epoch 66/100\n",
      "320/320 [==============================] - 11s 34ms/sample - loss: 0.6991 - acc: 0.7688 - val_loss: 0.7930 - val_acc: 0.7000\n",
      "Epoch 67/100\n",
      "320/320 [==============================] - 11s 33ms/sample - loss: 0.7405 - acc: 0.7688 - val_loss: 0.8009 - val_acc: 0.7250\n",
      "Epoch 68/100\n",
      "320/320 [==============================] - 11s 33ms/sample - loss: 0.6941 - acc: 0.7625 - val_loss: 0.8050 - val_acc: 0.7250\n",
      "Epoch 69/100\n",
      "320/320 [==============================] - 11s 33ms/sample - loss: 0.7055 - acc: 0.7906 - val_loss: 0.8149 - val_acc: 0.7000\n",
      "Epoch 70/100\n",
      "320/320 [==============================] - 11s 33ms/sample - loss: 0.6869 - acc: 0.7625 - val_loss: 0.7951 - val_acc: 0.7250\n",
      "Epoch 71/100\n",
      "320/320 [==============================] - 11s 33ms/sample - loss: 0.6566 - acc: 0.7781 - val_loss: 0.6596 - val_acc: 0.7750\n",
      "Epoch 72/100\n",
      "320/320 [==============================] - 11s 33ms/sample - loss: 0.7014 - acc: 0.7437 - val_loss: 0.7575 - val_acc: 0.7125\n",
      "Epoch 73/100\n",
      "320/320 [==============================] - 11s 33ms/sample - loss: 0.6092 - acc: 0.8000 - val_loss: 0.7597 - val_acc: 0.7500\n",
      "Epoch 74/100\n",
      "320/320 [==============================] - 11s 33ms/sample - loss: 0.6049 - acc: 0.7937 - val_loss: 0.7645 - val_acc: 0.7125\n",
      "Epoch 75/100\n",
      "320/320 [==============================] - 11s 34ms/sample - loss: 0.6311 - acc: 0.7906 - val_loss: 0.9247 - val_acc: 0.7375\n",
      "Epoch 76/100\n",
      "320/320 [==============================] - 11s 33ms/sample - loss: 0.6567 - acc: 0.7906 - val_loss: 0.8052 - val_acc: 0.7000\n",
      "Epoch 77/100\n",
      "320/320 [==============================] - 11s 33ms/sample - loss: 0.6679 - acc: 0.7563 - val_loss: 0.6902 - val_acc: 0.7625\n",
      "Epoch 78/100\n",
      "320/320 [==============================] - 11s 33ms/sample - loss: 0.5861 - acc: 0.7906 - val_loss: 0.8394 - val_acc: 0.6875\n",
      "Epoch 79/100\n",
      "320/320 [==============================] - 11s 33ms/sample - loss: 0.6083 - acc: 0.7937 - val_loss: 0.8362 - val_acc: 0.7625\n",
      "Epoch 80/100\n",
      "320/320 [==============================] - 11s 34ms/sample - loss: 0.6083 - acc: 0.7750 - val_loss: 0.7851 - val_acc: 0.7000\n",
      "Epoch 81/100\n",
      "320/320 [==============================] - 11s 33ms/sample - loss: 0.6180 - acc: 0.7688 - val_loss: 0.8309 - val_acc: 0.7625\n",
      "Epoch 82/100\n",
      "320/320 [==============================] - 11s 33ms/sample - loss: 0.5775 - acc: 0.8000 - val_loss: 0.9420 - val_acc: 0.6875\n",
      "Epoch 83/100\n",
      "320/320 [==============================] - 11s 34ms/sample - loss: 0.5853 - acc: 0.8094 - val_loss: 0.7661 - val_acc: 0.7250\n",
      "Epoch 84/100\n",
      "320/320 [==============================] - 11s 34ms/sample - loss: 0.6032 - acc: 0.7812 - val_loss: 0.7341 - val_acc: 0.7375\n",
      "Epoch 85/100\n",
      "320/320 [==============================] - 11s 33ms/sample - loss: 0.6422 - acc: 0.7969 - val_loss: 0.9339 - val_acc: 0.6875\n",
      "Epoch 86/100\n",
      "320/320 [==============================] - 11s 33ms/sample - loss: 0.5630 - acc: 0.7906 - val_loss: 0.9686 - val_acc: 0.7250\n",
      "Epoch 87/100\n",
      "320/320 [==============================] - 11s 33ms/sample - loss: 0.5745 - acc: 0.8094 - val_loss: 0.7236 - val_acc: 0.7500\n",
      "Epoch 88/100\n",
      "320/320 [==============================] - 11s 33ms/sample - loss: 0.5056 - acc: 0.8156 - val_loss: 0.7754 - val_acc: 0.7625\n",
      "Epoch 89/100\n",
      "320/320 [==============================] - 11s 33ms/sample - loss: 0.4940 - acc: 0.8281 - val_loss: 0.8122 - val_acc: 0.7250\n",
      "Epoch 90/100\n",
      "320/320 [==============================] - 11s 34ms/sample - loss: 0.7690 - acc: 0.7781 - val_loss: 1.0081 - val_acc: 0.7250\n",
      "Epoch 91/100\n",
      "320/320 [==============================] - 11s 34ms/sample - loss: 0.8470 - acc: 0.7250 - val_loss: 0.6977 - val_acc: 0.7125\n",
      "Epoch 92/100\n",
      "320/320 [==============================] - 11s 33ms/sample - loss: 0.7001 - acc: 0.7719 - val_loss: 0.8798 - val_acc: 0.7375\n",
      "Epoch 93/100\n",
      "320/320 [==============================] - 11s 34ms/sample - loss: 0.6202 - acc: 0.7656 - val_loss: 0.8833 - val_acc: 0.6750\n",
      "Epoch 94/100\n",
      "320/320 [==============================] - 11s 33ms/sample - loss: 0.6243 - acc: 0.8000 - val_loss: 0.6997 - val_acc: 0.7500\n",
      "Epoch 95/100\n",
      "320/320 [==============================] - 11s 34ms/sample - loss: 0.5804 - acc: 0.7844 - val_loss: 0.6822 - val_acc: 0.7250\n",
      "Epoch 96/100\n",
      "320/320 [==============================] - 11s 34ms/sample - loss: 0.5013 - acc: 0.8188 - val_loss: 0.6372 - val_acc: 0.7500\n",
      "Epoch 97/100\n",
      "320/320 [==============================] - 11s 33ms/sample - loss: 0.6039 - acc: 0.8000 - val_loss: 0.7414 - val_acc: 0.7625\n",
      "Epoch 98/100\n",
      "320/320 [==============================] - 11s 33ms/sample - loss: 0.5350 - acc: 0.8375 - val_loss: 0.7726 - val_acc: 0.7125\n",
      "Epoch 99/100\n",
      "320/320 [==============================] - 11s 34ms/sample - loss: 0.4948 - acc: 0.8500 - val_loss: 0.8515 - val_acc: 0.7250\n",
      "Epoch 100/100\n",
      "320/320 [==============================] - 11s 34ms/sample - loss: 0.5258 - acc: 0.8313 - val_loss: 0.8084 - val_acc: 0.7250\n"
     ]
    }
   ],
   "source": [
    "history_ESC_B = model_ESC_B.fit(ESC_x_train,\n",
    "                                to_categorical(ESC_y_train), \n",
    "                                validation_data=(ESC_x_dev, to_categorical(ESC_y_dev)),\n",
    "                                epochs=epochs_ESC,\n",
    "                                batch_size=batch_size_ESC)"
   ]
  },
  {
   "cell_type": "code",
   "execution_count": 29,
   "metadata": {},
   "outputs": [
    {
     "name": "stdout",
     "output_type": "stream",
     "text": [
      "Train on 320 samples, validate on 80 samples\n",
      "Epoch 1/100\n",
      "320/320 [==============================] - 11s 36ms/sample - loss: 735.2140 - acc: 0.1500 - val_loss: 4.5514 - val_acc: 0.0625\n",
      "Epoch 2/100\n",
      "320/320 [==============================] - 11s 34ms/sample - loss: 3.1112 - acc: 0.1187 - val_loss: 2.2767 - val_acc: 0.1000\n",
      "Epoch 3/100\n",
      "320/320 [==============================] - 11s 34ms/sample - loss: 2.2888 - acc: 0.1625 - val_loss: 2.2529 - val_acc: 0.2250\n",
      "Epoch 4/100\n",
      "320/320 [==============================] - 11s 34ms/sample - loss: 2.2555 - acc: 0.1750 - val_loss: 2.2602 - val_acc: 0.1875\n",
      "Epoch 5/100\n",
      "320/320 [==============================] - 11s 34ms/sample - loss: 2.2372 - acc: 0.2125 - val_loss: 2.2011 - val_acc: 0.2500\n",
      "Epoch 6/100\n",
      "320/320 [==============================] - 11s 34ms/sample - loss: 2.1682 - acc: 0.1969 - val_loss: 2.1627 - val_acc: 0.2875\n",
      "Epoch 7/100\n",
      "320/320 [==============================] - 11s 34ms/sample - loss: 2.1474 - acc: 0.2500 - val_loss: 2.1845 - val_acc: 0.2375\n",
      "Epoch 8/100\n",
      "320/320 [==============================] - 11s 34ms/sample - loss: 2.1247 - acc: 0.2281 - val_loss: 2.1160 - val_acc: 0.3125\n",
      "Epoch 9/100\n",
      "320/320 [==============================] - 11s 34ms/sample - loss: 2.1136 - acc: 0.2656 - val_loss: 2.1619 - val_acc: 0.2500\n",
      "Epoch 10/100\n",
      "320/320 [==============================] - 11s 34ms/sample - loss: 2.1044 - acc: 0.2531 - val_loss: 2.0848 - val_acc: 0.2750\n",
      "Epoch 11/100\n",
      "320/320 [==============================] - 11s 34ms/sample - loss: 2.0577 - acc: 0.3125 - val_loss: 2.0920 - val_acc: 0.2750\n",
      "Epoch 12/100\n",
      "320/320 [==============================] - 11s 34ms/sample - loss: 2.0676 - acc: 0.2937 - val_loss: 2.0697 - val_acc: 0.2875\n",
      "Epoch 13/100\n",
      "320/320 [==============================] - 11s 34ms/sample - loss: 1.9942 - acc: 0.3469 - val_loss: 2.0210 - val_acc: 0.2750\n",
      "Epoch 14/100\n",
      "320/320 [==============================] - 11s 34ms/sample - loss: 1.9929 - acc: 0.3500 - val_loss: 2.0037 - val_acc: 0.4250\n",
      "Epoch 15/100\n",
      "320/320 [==============================] - 11s 34ms/sample - loss: 2.0201 - acc: 0.3187 - val_loss: 1.9289 - val_acc: 0.3875\n",
      "Epoch 16/100\n",
      "320/320 [==============================] - 11s 34ms/sample - loss: 2.0014 - acc: 0.3250 - val_loss: 2.3058 - val_acc: 0.2375\n",
      "Epoch 17/100\n",
      "320/320 [==============================] - 11s 34ms/sample - loss: 2.3369 - acc: 0.2719 - val_loss: 1.9681 - val_acc: 0.3375\n",
      "Epoch 18/100\n",
      "320/320 [==============================] - 11s 34ms/sample - loss: 2.0512 - acc: 0.2906 - val_loss: 1.9155 - val_acc: 0.3125\n",
      "Epoch 19/100\n",
      "320/320 [==============================] - 11s 34ms/sample - loss: 1.9526 - acc: 0.3656 - val_loss: 1.8949 - val_acc: 0.2875\n",
      "Epoch 20/100\n",
      "320/320 [==============================] - 11s 34ms/sample - loss: 1.8968 - acc: 0.3500 - val_loss: 1.8070 - val_acc: 0.4375\n",
      "Epoch 21/100\n",
      "320/320 [==============================] - 11s 34ms/sample - loss: 1.8583 - acc: 0.3531 - val_loss: 1.8210 - val_acc: 0.3750\n",
      "Epoch 22/100\n",
      "320/320 [==============================] - 11s 34ms/sample - loss: 1.7604 - acc: 0.3562 - val_loss: 1.7154 - val_acc: 0.4250\n",
      "Epoch 23/100\n",
      "320/320 [==============================] - 11s 34ms/sample - loss: 1.7601 - acc: 0.3812 - val_loss: 1.6596 - val_acc: 0.3375\n",
      "Epoch 24/100\n",
      "320/320 [==============================] - 11s 34ms/sample - loss: 1.7467 - acc: 0.3812 - val_loss: 1.6960 - val_acc: 0.3750\n",
      "Epoch 25/100\n",
      "320/320 [==============================] - 11s 34ms/sample - loss: 1.7141 - acc: 0.3500 - val_loss: 1.6421 - val_acc: 0.4375\n",
      "Epoch 26/100\n",
      "320/320 [==============================] - 11s 34ms/sample - loss: 1.6989 - acc: 0.4156 - val_loss: 1.7104 - val_acc: 0.4000\n",
      "Epoch 27/100\n",
      "320/320 [==============================] - 11s 34ms/sample - loss: 1.7189 - acc: 0.4219 - val_loss: 1.6982 - val_acc: 0.4750\n",
      "Epoch 28/100\n",
      "320/320 [==============================] - 11s 34ms/sample - loss: 1.7039 - acc: 0.4094 - val_loss: 1.6275 - val_acc: 0.4250\n",
      "Epoch 29/100\n",
      "320/320 [==============================] - 11s 34ms/sample - loss: 1.6890 - acc: 0.4125 - val_loss: 1.6109 - val_acc: 0.4500\n",
      "Epoch 30/100\n",
      "320/320 [==============================] - 11s 34ms/sample - loss: 1.5875 - acc: 0.4781 - val_loss: 1.5001 - val_acc: 0.4500\n",
      "Epoch 31/100\n",
      "320/320 [==============================] - 11s 34ms/sample - loss: 1.5204 - acc: 0.5500 - val_loss: 1.6354 - val_acc: 0.4500\n",
      "Epoch 32/100\n",
      "320/320 [==============================] - 11s 34ms/sample - loss: 1.5868 - acc: 0.4719 - val_loss: 1.5128 - val_acc: 0.4625\n",
      "Epoch 33/100\n",
      "320/320 [==============================] - 11s 34ms/sample - loss: 1.5510 - acc: 0.4625 - val_loss: 1.7027 - val_acc: 0.4875\n",
      "Epoch 34/100\n",
      "320/320 [==============================] - 11s 34ms/sample - loss: 1.4996 - acc: 0.4750 - val_loss: 1.4126 - val_acc: 0.5250\n",
      "Epoch 35/100\n",
      "320/320 [==============================] - 11s 34ms/sample - loss: 1.4987 - acc: 0.4750 - val_loss: 1.4214 - val_acc: 0.5250\n",
      "Epoch 36/100\n",
      "320/320 [==============================] - 11s 34ms/sample - loss: 1.4193 - acc: 0.5281 - val_loss: 1.4672 - val_acc: 0.5125\n",
      "Epoch 37/100\n",
      "320/320 [==============================] - 11s 34ms/sample - loss: 1.3872 - acc: 0.5063 - val_loss: 1.2800 - val_acc: 0.5750\n",
      "Epoch 38/100\n",
      "320/320 [==============================] - 11s 34ms/sample - loss: 1.4925 - acc: 0.5156 - val_loss: 1.4439 - val_acc: 0.5250\n",
      "Epoch 39/100\n",
      "320/320 [==============================] - 11s 34ms/sample - loss: 1.4448 - acc: 0.5063 - val_loss: 1.3070 - val_acc: 0.5750\n",
      "Epoch 40/100\n",
      "320/320 [==============================] - 11s 34ms/sample - loss: 1.4134 - acc: 0.4844 - val_loss: 1.2872 - val_acc: 0.5875\n",
      "Epoch 41/100\n",
      "320/320 [==============================] - 11s 34ms/sample - loss: 1.5023 - acc: 0.4781 - val_loss: 1.2610 - val_acc: 0.5375\n",
      "Epoch 42/100\n",
      "320/320 [==============================] - 11s 34ms/sample - loss: 1.3544 - acc: 0.5406 - val_loss: 1.2891 - val_acc: 0.6000\n",
      "Epoch 43/100\n",
      "320/320 [==============================] - 11s 34ms/sample - loss: 1.3552 - acc: 0.5219 - val_loss: 1.3998 - val_acc: 0.5250\n",
      "Epoch 44/100\n",
      "320/320 [==============================] - 11s 34ms/sample - loss: 1.2832 - acc: 0.5281 - val_loss: 1.4791 - val_acc: 0.5500\n",
      "Epoch 45/100\n",
      "320/320 [==============================] - 11s 34ms/sample - loss: 1.3372 - acc: 0.5562 - val_loss: 1.3933 - val_acc: 0.5375\n",
      "Epoch 46/100\n",
      "320/320 [==============================] - 11s 34ms/sample - loss: 1.3269 - acc: 0.5719 - val_loss: 1.4132 - val_acc: 0.5375\n",
      "Epoch 47/100\n",
      "320/320 [==============================] - 11s 34ms/sample - loss: 1.2745 - acc: 0.5406 - val_loss: 1.2684 - val_acc: 0.6250\n",
      "Epoch 48/100\n",
      "320/320 [==============================] - 11s 34ms/sample - loss: 1.2367 - acc: 0.5719 - val_loss: 1.1025 - val_acc: 0.6375\n",
      "Epoch 49/100\n",
      "320/320 [==============================] - 11s 34ms/sample - loss: 1.2267 - acc: 0.5781 - val_loss: 1.2082 - val_acc: 0.6375\n",
      "Epoch 50/100\n",
      "320/320 [==============================] - 11s 34ms/sample - loss: 1.2014 - acc: 0.6000 - val_loss: 1.2030 - val_acc: 0.6125\n",
      "Epoch 51/100\n",
      "320/320 [==============================] - 11s 34ms/sample - loss: 1.3091 - acc: 0.5500 - val_loss: 1.2789 - val_acc: 0.5250\n",
      "Epoch 52/100\n",
      "320/320 [==============================] - 11s 34ms/sample - loss: 1.3666 - acc: 0.5125 - val_loss: 1.4895 - val_acc: 0.4625\n",
      "Epoch 53/100\n",
      "320/320 [==============================] - 11s 34ms/sample - loss: 1.4364 - acc: 0.5156 - val_loss: 1.5874 - val_acc: 0.3750\n",
      "Epoch 54/100\n",
      "320/320 [==============================] - 11s 34ms/sample - loss: 1.4074 - acc: 0.5219 - val_loss: 1.5126 - val_acc: 0.4500\n",
      "Epoch 55/100\n",
      "320/320 [==============================] - 11s 34ms/sample - loss: 1.3359 - acc: 0.5188 - val_loss: 1.4139 - val_acc: 0.4875\n",
      "Epoch 56/100\n",
      "320/320 [==============================] - 11s 34ms/sample - loss: 1.2894 - acc: 0.5813 - val_loss: 1.3590 - val_acc: 0.5500\n",
      "Epoch 57/100\n",
      "320/320 [==============================] - 11s 34ms/sample - loss: 1.2269 - acc: 0.5625 - val_loss: 1.3825 - val_acc: 0.5125\n",
      "Epoch 58/100\n",
      "320/320 [==============================] - 11s 34ms/sample - loss: 1.1909 - acc: 0.6281 - val_loss: 1.1898 - val_acc: 0.5875\n",
      "Epoch 59/100\n",
      "320/320 [==============================] - 11s 34ms/sample - loss: 1.1685 - acc: 0.5875 - val_loss: 1.2439 - val_acc: 0.6625\n",
      "Epoch 60/100\n"
     ]
    },
    {
     "name": "stdout",
     "output_type": "stream",
     "text": [
      "320/320 [==============================] - 11s 34ms/sample - loss: 1.2875 - acc: 0.5594 - val_loss: 1.3858 - val_acc: 0.5000\n",
      "Epoch 61/100\n",
      "320/320 [==============================] - 11s 34ms/sample - loss: 1.2750 - acc: 0.5281 - val_loss: 1.2568 - val_acc: 0.6125\n",
      "Epoch 62/100\n",
      "320/320 [==============================] - 11s 34ms/sample - loss: 1.2433 - acc: 0.6062 - val_loss: 1.3039 - val_acc: 0.5250\n",
      "Epoch 63/100\n",
      "320/320 [==============================] - 11s 34ms/sample - loss: 1.1676 - acc: 0.5969 - val_loss: 1.1433 - val_acc: 0.6625\n",
      "Epoch 64/100\n",
      "320/320 [==============================] - 11s 34ms/sample - loss: 1.1929 - acc: 0.5844 - val_loss: 1.2458 - val_acc: 0.6750\n",
      "Epoch 65/100\n",
      "320/320 [==============================] - 11s 34ms/sample - loss: 1.1508 - acc: 0.5844 - val_loss: 1.4386 - val_acc: 0.5750\n",
      "Epoch 66/100\n",
      "320/320 [==============================] - 11s 34ms/sample - loss: 1.1013 - acc: 0.6438 - val_loss: 1.3395 - val_acc: 0.6000\n",
      "Epoch 67/100\n",
      "320/320 [==============================] - 11s 34ms/sample - loss: 1.0744 - acc: 0.6687 - val_loss: 1.2824 - val_acc: 0.5875\n",
      "Epoch 68/100\n",
      "320/320 [==============================] - 11s 34ms/sample - loss: 1.0526 - acc: 0.6281 - val_loss: 1.4535 - val_acc: 0.5500\n",
      "Epoch 69/100\n",
      "320/320 [==============================] - 11s 34ms/sample - loss: 1.1194 - acc: 0.6156 - val_loss: 1.2995 - val_acc: 0.5750\n",
      "Epoch 70/100\n",
      "320/320 [==============================] - 11s 34ms/sample - loss: 1.1752 - acc: 0.6031 - val_loss: 1.1997 - val_acc: 0.6500\n",
      "Epoch 71/100\n",
      "320/320 [==============================] - 11s 34ms/sample - loss: 1.1764 - acc: 0.5969 - val_loss: 1.2869 - val_acc: 0.6750\n",
      "Epoch 72/100\n",
      "320/320 [==============================] - 11s 34ms/sample - loss: 1.1432 - acc: 0.6156 - val_loss: 1.3233 - val_acc: 0.5500\n",
      "Epoch 73/100\n",
      "320/320 [==============================] - 11s 34ms/sample - loss: 1.2400 - acc: 0.5906 - val_loss: 1.4483 - val_acc: 0.4750\n",
      "Epoch 74/100\n",
      "320/320 [==============================] - 11s 34ms/sample - loss: 1.2607 - acc: 0.5500 - val_loss: 1.1500 - val_acc: 0.5875\n",
      "Epoch 75/100\n",
      "320/320 [==============================] - 11s 34ms/sample - loss: 1.1831 - acc: 0.6500 - val_loss: 1.3493 - val_acc: 0.5250\n",
      "Epoch 76/100\n",
      "320/320 [==============================] - 11s 34ms/sample - loss: 1.2861 - acc: 0.6187 - val_loss: 1.4369 - val_acc: 0.4500\n",
      "Epoch 77/100\n",
      "320/320 [==============================] - 11s 34ms/sample - loss: 1.2612 - acc: 0.5656 - val_loss: 1.3316 - val_acc: 0.5875\n",
      "Epoch 78/100\n",
      "320/320 [==============================] - 11s 34ms/sample - loss: 1.0777 - acc: 0.6250 - val_loss: 1.5443 - val_acc: 0.5875\n",
      "Epoch 79/100\n",
      "320/320 [==============================] - 11s 34ms/sample - loss: 1.0685 - acc: 0.6281 - val_loss: 1.1795 - val_acc: 0.6500\n",
      "Epoch 80/100\n",
      "320/320 [==============================] - 11s 34ms/sample - loss: 1.0799 - acc: 0.6375 - val_loss: 1.2989 - val_acc: 0.5875\n",
      "Epoch 81/100\n",
      "320/320 [==============================] - 11s 34ms/sample - loss: 1.1291 - acc: 0.6125 - val_loss: 1.1169 - val_acc: 0.6125\n",
      "Epoch 82/100\n",
      "320/320 [==============================] - 11s 34ms/sample - loss: 1.0751 - acc: 0.6750 - val_loss: 1.6650 - val_acc: 0.5500\n",
      "Epoch 83/100\n",
      "320/320 [==============================] - 11s 34ms/sample - loss: 1.2154 - acc: 0.5938 - val_loss: 1.5011 - val_acc: 0.4500\n",
      "Epoch 84/100\n",
      "320/320 [==============================] - 11s 34ms/sample - loss: 1.2006 - acc: 0.5969 - val_loss: 1.3308 - val_acc: 0.5125\n",
      "Epoch 85/100\n",
      "320/320 [==============================] - 11s 34ms/sample - loss: 1.2446 - acc: 0.5344 - val_loss: 1.4387 - val_acc: 0.5250\n",
      "Epoch 86/100\n",
      "320/320 [==============================] - 11s 34ms/sample - loss: 1.1990 - acc: 0.5719 - val_loss: 1.1246 - val_acc: 0.6625\n",
      "Epoch 87/100\n",
      "320/320 [==============================] - 11s 34ms/sample - loss: 1.1268 - acc: 0.6219 - val_loss: 1.2262 - val_acc: 0.6750\n",
      "Epoch 88/100\n",
      "320/320 [==============================] - 11s 34ms/sample - loss: 1.1050 - acc: 0.6062 - val_loss: 1.2262 - val_acc: 0.6750\n",
      "Epoch 89/100\n",
      "320/320 [==============================] - 11s 34ms/sample - loss: 1.1002 - acc: 0.6531 - val_loss: 1.0734 - val_acc: 0.6000\n",
      "Epoch 90/100\n",
      "320/320 [==============================] - 11s 34ms/sample - loss: 1.0657 - acc: 0.6156 - val_loss: 0.9730 - val_acc: 0.6000\n",
      "Epoch 91/100\n",
      "320/320 [==============================] - 11s 34ms/sample - loss: 1.0180 - acc: 0.6562 - val_loss: 1.2086 - val_acc: 0.6375\n",
      "Epoch 92/100\n",
      "320/320 [==============================] - 11s 34ms/sample - loss: 0.9925 - acc: 0.6594 - val_loss: 0.9761 - val_acc: 0.6250\n",
      "Epoch 93/100\n",
      "320/320 [==============================] - 11s 34ms/sample - loss: 1.0352 - acc: 0.6406 - val_loss: 1.1704 - val_acc: 0.5875\n",
      "Epoch 94/100\n",
      "320/320 [==============================] - 11s 34ms/sample - loss: 1.1635 - acc: 0.5938 - val_loss: 1.0546 - val_acc: 0.5500\n",
      "Epoch 95/100\n",
      "320/320 [==============================] - 11s 34ms/sample - loss: 1.0906 - acc: 0.6062 - val_loss: 1.0128 - val_acc: 0.6625\n",
      "Epoch 96/100\n",
      "320/320 [==============================] - 11s 34ms/sample - loss: 0.9466 - acc: 0.6500 - val_loss: 1.2476 - val_acc: 0.6500\n",
      "Epoch 97/100\n",
      "320/320 [==============================] - 11s 34ms/sample - loss: 1.1003 - acc: 0.6531 - val_loss: 1.2737 - val_acc: 0.5750\n",
      "Epoch 98/100\n",
      "320/320 [==============================] - 11s 34ms/sample - loss: 1.0309 - acc: 0.6156 - val_loss: 1.1616 - val_acc: 0.6500\n",
      "Epoch 99/100\n",
      "320/320 [==============================] - 11s 34ms/sample - loss: 0.9303 - acc: 0.6969 - val_loss: 1.2765 - val_acc: 0.5750\n",
      "Epoch 100/100\n",
      "320/320 [==============================] - 11s 34ms/sample - loss: 1.0571 - acc: 0.6219 - val_loss: 1.3737 - val_acc: 0.5250\n"
     ]
    }
   ],
   "source": [
    "history_ESC_C = model_ESC_C.fit(ESC_x_train,\n",
    "                                to_categorical(ESC_y_train), \n",
    "                                validation_data=(ESC_x_dev, to_categorical(ESC_y_dev)),\n",
    "                                epochs=epochs_ESC,\n",
    "                                batch_size=batch_size_ESC)"
   ]
  },
  {
   "cell_type": "markdown",
   "metadata": {},
   "source": [
    "## And finally the performance plots"
   ]
  },
  {
   "cell_type": "code",
   "execution_count": 56,
   "metadata": {},
   "outputs": [
    {
     "data": {
      "image/png": "[encoded data removed]",
      "text/plain": [
       "<Figure size 864x576 with 1 Axes>"
      ]
     },
     "metadata": {
      "needs_background": "light"
     },
     "output_type": "display_data"
    }
   ],
   "source": [
    "plt.figure(figsize = (12, 8))\n",
    "plt.plot(history_A.history['acc'], 'g--', linewidth=1)\n",
    "plt.plot(history_A.history['val_acc'], 'g')\n",
    "plt.plot(history_B.history['acc'], 'y--', linewidth=1)\n",
    "plt.plot(history_B.history['val_acc'], 'y')\n",
    "plt.plot(history_C.history['acc'], 'r--', linewidth=1)\n",
    "plt.plot(history_C.history['val_acc'], 'r')\n",
    "plt.title('speaker model accuracy')\n",
    "plt.ylabel('accuracy')\n",
    "plt.xlabel('epoch')\n",
    "plt.legend(['train_A', 'test_A', 'train_B', 'test_B', 'train_C', 'test_C'], loc='lower right')\n",
    "plt.show()"
   ]
  },
  {
   "cell_type": "code",
   "execution_count": 57,
   "metadata": {},
   "outputs": [
    {
     "data": {
      "image/png": "[encoded data removed]",
      "text/plain": [
       "<Figure size 864x576 with 1 Axes>"
      ]
     },
     "metadata": {
      "needs_background": "light"
     },
     "output_type": "display_data"
    }
   ],
   "source": [
    "plt.figure(figsize = (12, 8))\n",
    "plt.plot(history_ESC_A.history['acc'], 'g--', linewidth=1)\n",
    "plt.plot(history_ESC_A.history['val_acc'], 'g')\n",
    "plt.plot(history_ESC_B.history['acc'], 'y--', linewidth=1)\n",
    "plt.plot(history_ESC_B.history['val_acc'], 'y')\n",
    "plt.plot(history_ESC_C.history['acc'], 'r--', linewidth=1)\n",
    "plt.plot(history_ESC_C.history['val_acc'], 'r')\n",
    "plt.title('ESC-10 model accuracy')\n",
    "plt.ylabel('accuracy')\n",
    "plt.xlabel('epoch')\n",
    "plt.legend(['train_A', 'test_A', 'train_B', 'test_B', 'train_C', 'test_C'], loc='lower right')\n",
    "plt.show()"
   ]
  },
  {
   "cell_type": "code",
   "execution_count": null,
   "metadata": {},
   "outputs": [],
   "source": []
  }
 ],
 "metadata": {
  "kernelspec": {
   "display_name": "Python 3",
   "language": "python",
   "name": "python3"
  },
  "language_info": {
   "codemirror_mode": {
    "name": "ipython",
    "version": 3
   },
   "file_extension": ".py",
   "mimetype": "text/x-python",
   "name": "python",
   "nbconvert_exporter": "python",
   "pygments_lexer": "ipython3",
   "version": "3.6.9"
  }
 },
 "nbformat": 4,
 "nbformat_minor": 2
}
