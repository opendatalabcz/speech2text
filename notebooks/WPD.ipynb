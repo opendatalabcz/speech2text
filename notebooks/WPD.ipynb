{
 "cells": [
  {
   "cell_type": "markdown",
   "metadata": {},
   "source": [
    "# Wavelet Pakcet Decomposition\n",
    "## Imports"
   ]
  },
  {
   "cell_type": "code",
   "execution_count": 1,
   "metadata": {},
   "outputs": [],
   "source": [
    "import tensorflow as tf"
   ]
  },
  {
   "cell_type": "markdown",
   "metadata": {},
   "source": [
    "## Test input"
   ]
  },
  {
   "cell_type": "code",
   "execution_count": 2,
   "metadata": {},
   "outputs": [],
   "source": [
    "input_sig = [32, 10, 20, 38, 37, 28, 38, 34, 18, 24, 18, 9, 23, 24, 28, 34]\n",
    "tf_sig = tf.constant(input_sig, dtype=tf.float32)"
   ]
  },
  {
   "cell_type": "markdown",
   "metadata": {},
   "source": [
    "## The HaarClassicWPD class\n",
    "This class implements the Wavelet Packet Decomposition using the Tensorflow package.\n",
    "There are two public methods:\n",
    "\n",
    "### get_level(signal, level)\n",
    "Computes the WPD using the Haar Classic wavelet function.\n",
    "\n",
    "Inputs:\n",
    "\n",
    "*signal* is a 1D Tensor containing the signal\n",
    "\n",
    "*level* is the desired level of decomposition\n",
    "\n",
    "Ouput:\n",
    "\n",
    "A 2D Tensor containing the decomposition sub-signals.\n",
    "\n",
    "### get_features_level(signal, level)\n",
    "Uses the *get_level* method to get the decomposition sub-signals and then computes the features."
   ]
  },
  {
   "cell_type": "code",
   "execution_count": 119,
   "metadata": {},
   "outputs": [],
   "source": [
    "class HaarClassicWPD:    \n",
    "    @staticmethod\n",
    "    def __log2(self, x):\n",
    "        numerator = tf.math.log(x)\n",
    "        denominator = tf.math.log(tf.constant(2, dtype=numerator.dtype))\n",
    "        return numerator / denominator\n",
    "    \n",
    "    @staticmethod\n",
    "    def __both_filters(signal):\n",
    "        even_odds = tf.transpose(tf.reshape(signal, [tf.shape(signal)[0]//2, 2]))\n",
    "        return tf.stack([tf.math.subtract(even_odds[0], even_odds[1]), tf.reduce_sum(even_odds, 0)], 0)/2\n",
    "    \n",
    "    @staticmethod\n",
    "    def __high_pass_filter(signal):\n",
    "        return tf.math.divide(\n",
    "                   tf.reduce_sum(\n",
    "                       tf.transpose(\n",
    "                           tf.reshape(signal, [tf.shape(signal)[0]//2, 2])\n",
    "                       ), 0\n",
    "                   ), 2\n",
    "               )\n",
    "\n",
    "    @staticmethod\n",
    "    def __low_pass_filter(signal):\n",
    "        return tf.math.divide(\n",
    "                   tf.math.subtract(\n",
    "                       tf.transpose(\n",
    "                           tf.reshape(signal, [tf.shape(signal)[0]//2, 2]))[0],\n",
    "                       tf.transpose(\n",
    "                           tf.reshape(signal, [tf.shape(signal)[0]//2, 2]))[1]\n",
    "                    ), 2\n",
    "                )\n",
    "    \n",
    "    @staticmethod\n",
    "    def __sig_to_feature(signal):\n",
    "        return tf.reduce_logsumexp(signal)\n",
    "    \n",
    "    @staticmethod\n",
    "    def get_level(signal, level):\n",
    "        signal = tf.reshape(signal, [1, tf.size(signal)])\n",
    "        curr_level = 1\n",
    "        while curr_level <= level:\n",
    "            signal = tf.map_fn(HaarClassicWPD.__both_filters, signal)\n",
    "            sig_shape = tf.shape(signal)\n",
    "            signal = tf.reshape(signal, [sig_shape[0]*sig_shape[1], sig_shape[2]])\n",
    "            curr_level += 1\n",
    "        return signal\n",
    "    \n",
    "    @staticmethod\n",
    "    def get_features_level(signal, level):\n",
    "        return tf.map_fn(HaarClassicWPD.__sig_to_feature, HaarClassicWPD.get_level(signal, level))"
   ]
  },
  {
   "cell_type": "code",
   "execution_count": 122,
   "metadata": {},
   "outputs": [
    {
     "name": "stdout",
     "output_type": "stream",
     "text": [
      "[[ 4.375 -2.5  ]\n",
      " [ 5.625 -1.25 ]\n",
      " [-1.125  1.25 ]\n",
      " [ 2.125 -0.5  ]\n",
      " [-1.125  3.75 ]\n",
      " [-2.875  0.   ]\n",
      " [-4.625 -5.   ]\n",
      " [29.625 22.25 ]]\n"
     ]
    }
   ],
   "source": [
    "with tf.Session().as_default():\n",
    "    level = 3\n",
    "    print(HaarClassicWPD.get_level(tf_sig, level).eval())\n",
    "    #print(HaarClassicWPD.get_features_level(tf_sig, level).eval())"
   ]
  }
 ],
 "metadata": {
  "kernelspec": {
   "display_name": "Python 3",
   "language": "python",
   "name": "python3"
  },
  "language_info": {
   "codemirror_mode": {
    "name": "ipython",
    "version": 3
   },
   "file_extension": ".py",
   "mimetype": "text/x-python",
   "name": "python",
   "nbconvert_exporter": "python",
   "pygments_lexer": "ipython3",
   "version": "3.7.3"
  }
 },
 "nbformat": 4,
 "nbformat_minor": 4
}
